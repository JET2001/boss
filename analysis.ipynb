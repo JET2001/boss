{
 "cells": [
  {
   "cell_type": "code",
   "execution_count": 4,
   "metadata": {},
   "outputs": [],
   "source": [
    "import pandas as pd\n",
    "import numpy as np\n",
    "import matplotlib.pyplot as plt"
   ]
  },
  {
   "cell_type": "markdown",
   "metadata": {},
   "source": [
    "# Feature Engineering"
   ]
  },
  {
   "cell_type": "code",
   "execution_count": 145,
   "metadata": {},
   "outputs": [],
   "source": [
    "df = pd.read_csv(\"overall.csv\")\n",
    "del df[\"Unnamed: 0\"]\n",
    "\n",
    "df['year'] = df['term'].apply(lambda x: x[0:7])\n",
    "df['term'] = df['term'].apply(lambda x: x[8:])\n",
    "df[\"before_process_vacancy\"].replace(0, np.nan, inplace = True)\n",
    "df.dropna(inplace = True)\n",
    "\n",
    "sections = df.groupby(['course_code', 'year', 'term'])[['session']].count().reset_index()\n",
    "sections = sections.rename({'session' : 'num_sections'}, axis = 1)\n",
    "\n",
    "df = df.merge(sections, how = 'left', on = ['course_code', 'year', 'term'])\n"
   ]
  },
  {
   "cell_type": "code",
   "execution_count": 76,
   "metadata": {},
   "outputs": [
    {
     "name": "stdout",
     "output_type": "stream",
     "text": [
      "<class 'pandas.core.frame.DataFrame'>\n",
      "Int64Index: 132000 entries, 0 to 131999\n",
      "Data columns (total 18 columns):\n",
      " #   Column                  Non-Null Count   Dtype  \n",
      "---  ------                  --------------   -----  \n",
      " 0   term                    132000 non-null  object \n",
      " 1   session                 132000 non-null  object \n",
      " 2   bidding_window          132000 non-null  object \n",
      " 3   course_code             132000 non-null  object \n",
      " 4   description             132000 non-null  object \n",
      " 5   section                 132000 non-null  object \n",
      " 6   vacancy                 132000 non-null  int64  \n",
      " 7   opening_vacancy         132000 non-null  int64  \n",
      " 8   before_process_vacancy  132000 non-null  float64\n",
      " 9   dice                    132000 non-null  int64  \n",
      " 10  after_process_vacancy   132000 non-null  int64  \n",
      " 11  enrolled_students       132000 non-null  int64  \n",
      " 12  median_bid              132000 non-null  float64\n",
      " 13  min_bid                 132000 non-null  float64\n",
      " 14  instructor              132000 non-null  object \n",
      " 15  school                  132000 non-null  object \n",
      " 16  year                    132000 non-null  object \n",
      " 17  num_sections            132000 non-null  int64  \n",
      "dtypes: float64(3), int64(6), object(9)\n",
      "memory usage: 19.1+ MB\n"
     ]
    }
   ],
   "source": [
    "df.info()"
   ]
  },
  {
   "cell_type": "markdown",
   "metadata": {},
   "source": [
    "How are the bids distributed?"
   ]
  },
  {
   "cell_type": "code",
   "execution_count": 84,
   "metadata": {},
   "outputs": [
    {
     "data": {
      "text/html": [
       "<div>\n",
       "<style scoped>\n",
       "    .dataframe tbody tr th:only-of-type {\n",
       "        vertical-align: middle;\n",
       "    }\n",
       "\n",
       "    .dataframe tbody tr th {\n",
       "        vertical-align: top;\n",
       "    }\n",
       "\n",
       "    .dataframe thead th {\n",
       "        text-align: right;\n",
       "    }\n",
       "</style>\n",
       "<table border=\"1\" class=\"dataframe\">\n",
       "  <thead>\n",
       "    <tr style=\"text-align: right;\">\n",
       "      <th></th>\n",
       "      <th>before_process_vacancy</th>\n",
       "      <th>median_bid</th>\n",
       "      <th>min_bid</th>\n",
       "    </tr>\n",
       "  </thead>\n",
       "  <tbody>\n",
       "    <tr>\n",
       "      <th>count</th>\n",
       "      <td>132000.000000</td>\n",
       "      <td>132000.000000</td>\n",
       "      <td>132000.000000</td>\n",
       "    </tr>\n",
       "    <tr>\n",
       "      <th>mean</th>\n",
       "      <td>8.967644</td>\n",
       "      <td>13.667979</td>\n",
       "      <td>11.634126</td>\n",
       "    </tr>\n",
       "    <tr>\n",
       "      <th>std</th>\n",
       "      <td>10.912530</td>\n",
       "      <td>19.857424</td>\n",
       "      <td>17.966068</td>\n",
       "    </tr>\n",
       "    <tr>\n",
       "      <th>min</th>\n",
       "      <td>-46.000000</td>\n",
       "      <td>0.000000</td>\n",
       "      <td>0.000000</td>\n",
       "    </tr>\n",
       "    <tr>\n",
       "      <th>25%</th>\n",
       "      <td>2.000000</td>\n",
       "      <td>0.000000</td>\n",
       "      <td>0.000000</td>\n",
       "    </tr>\n",
       "    <tr>\n",
       "      <th>50%</th>\n",
       "      <td>4.000000</td>\n",
       "      <td>0.000000</td>\n",
       "      <td>0.000000</td>\n",
       "    </tr>\n",
       "    <tr>\n",
       "      <th>75%</th>\n",
       "      <td>11.000000</td>\n",
       "      <td>22.530000</td>\n",
       "      <td>16.780000</td>\n",
       "    </tr>\n",
       "    <tr>\n",
       "      <th>max</th>\n",
       "      <td>80.000000</td>\n",
       "      <td>496.390000</td>\n",
       "      <td>480.000000</td>\n",
       "    </tr>\n",
       "  </tbody>\n",
       "</table>\n",
       "</div>"
      ],
      "text/plain": [
       "       before_process_vacancy     median_bid        min_bid\n",
       "count           132000.000000  132000.000000  132000.000000\n",
       "mean                 8.967644      13.667979      11.634126\n",
       "std                 10.912530      19.857424      17.966068\n",
       "min                -46.000000       0.000000       0.000000\n",
       "25%                  2.000000       0.000000       0.000000\n",
       "50%                  4.000000       0.000000       0.000000\n",
       "75%                 11.000000      22.530000      16.780000\n",
       "max                 80.000000     496.390000     480.000000"
      ]
     },
     "execution_count": 84,
     "metadata": {},
     "output_type": "execute_result"
    }
   ],
   "source": [
    "df[['before_process_vacancy', 'median_bid', 'min_bid']].describe()"
   ]
  },
  {
   "cell_type": "code",
   "execution_count": 92,
   "metadata": {},
   "outputs": [
    {
     "data": {
      "image/png": "[encoded data removed]",
      "text/plain": [
       "<Figure size 1080x432 with 4 Axes>"
      ]
     },
     "metadata": {
      "needs_background": "light"
     },
     "output_type": "display_data"
    }
   ],
   "source": [
    "bids = ['median_bid', 'min_bid']\n",
    "\n",
    "fig, ax = plt.subplots(2, 2, figsize = (15, 6))\n",
    "\n",
    "for i in range(2):\n",
    "    ax[0, i].hist(df[bids[i]], density = True)\n",
    "    ax[0, i].set_title(bids[i])\n",
    "    ax[1, i].boxplot(df[bids[i]], vert = False)\n",
    "    ax[0, i].axvline(df[bids[i]].mean(), color='magenta', linestyle='dashed', linewidth=2)\n",
    "    ax[0, i].axvline(df[bids[i]].median(), color='cyan', linestyle='dashed', linewidth=2)\n",
    "\n",
    "ax[0, 0].set_ylabel('frequency')\n",
    "\n",
    "plt.show()"
   ]
  },
  {
   "cell_type": "code",
   "execution_count": 102,
   "metadata": {},
   "outputs": [
    {
     "data": {
      "image/png": "[encoded data removed]",
      "text/plain": [
       "<Figure size 1080x432 with 4 Axes>"
      ]
     },
     "metadata": {
      "needs_background": "light"
     },
     "output_type": "display_data"
    }
   ],
   "source": [
    "# Visualising it without outliers\n",
    "\n",
    "visual = df.query('0 < median_bid < 90')\n",
    "\n",
    "fig, ax = plt.subplots(2, 2, figsize = (15, 6))\n",
    "\n",
    "for i in range(2):\n",
    "    ax[0, i].hist(visual[bids[i]], density = True)\n",
    "    ax[0, i].set_title(bids[i])\n",
    "    ax[1, i].boxplot(visual[bids[i]], vert = False)\n",
    "    ax[0, i].axvline(visual[bids[i]].mean(), color='magenta', linestyle='dashed', linewidth=2)\n",
    "    ax[0, i].axvline(visual[bids[i]].median(), color='cyan', linestyle='dashed', linewidth=2)\n",
    "\n",
    "ax[0, 0].set_ylabel('frequency')\n",
    "\n",
    "plt.show()"
   ]
  },
  {
   "cell_type": "code",
   "execution_count": 156,
   "metadata": {},
   "outputs": [
    {
     "name": "stdout",
     "output_type": "stream",
     "text": [
      "Vacancies v. Median Bid Correlation: 4.17%\n",
      "Vacancies v. Min Bid Correlation: -3.07%\n"
     ]
    },
    {
     "data": {
      "image/png": "[encoded data removed]",
      "text/plain": [
       "<Figure size 432x288 with 1 Axes>"
      ]
     },
     "metadata": {
      "needs_background": "light"
     },
     "output_type": "display_data"
    }
   ],
   "source": [
    "fig = plt.figure()\n",
    "ax = fig.gca()\n",
    "ax.scatter(df['before_process_vacancy'], df['median_bid'], label = 'Median Bid')\n",
    "ax.scatter(df['before_process_vacancy'], df['min_bid'], label = 'Median Bid')\n",
    "ax.set_xlabel('Vacancies')\n",
    "ax.set_ylabel('Bids')\n",
    "ax.set_title('Vacancies v. Bids')\n",
    "\n",
    "\n",
    "ax.legend()\n",
    "\n",
    "print(\"Vacancies v. Median Bid Correlation: {:.2%}\".format(df.before_process_vacancy.corr(df.median_bid)))\n",
    "print(\"Vacancies v. Min Bid Correlation: {:.2%}\".format(df.before_process_vacancy.corr(df.min_bid)))"
   ]
  },
  {
   "cell_type": "markdown",
   "metadata": {},
   "source": [
    "Some entries seem to have negative vacancies. Let's chalk those up to recording error."
   ]
  },
  {
   "cell_type": "code",
   "execution_count": 150,
   "metadata": {},
   "outputs": [],
   "source": [
    "df.loc[df['before_process_vacancy'] < 0, 'before_process_vacancy'] = 0"
   ]
  },
  {
   "cell_type": "markdown",
   "metadata": {},
   "source": [
    "# Building the predictive model"
   ]
  },
  {
   "cell_type": "code",
   "execution_count": 142,
   "metadata": {},
   "outputs": [],
   "source": [
    "from sklearn.linear_model import LinearRegression\n",
    "from sklearn import tree\n",
    "from sklearn.ensemble import RandomForestRegressor\n",
    "from sklearn.metrics import r2_score, mean_squared_error\n",
    "from sklearn.preprocessing import StandardScaler, OneHotEncoder\n",
    "from sklearn.compose import ColumnTransformer\n",
    "from sklearn.pipeline import Pipeline\n",
    "from sklearn.model_selection import train_test_split"
   ]
  },
  {
   "cell_type": "code",
   "execution_count": 154,
   "metadata": {},
   "outputs": [
    {
     "name": "stdout",
     "output_type": "stream",
     "text": [
      "Training Set: 92400 rows\n",
      "Test Set: 39600 rows\n"
     ]
    }
   ],
   "source": [
    "X = df.iloc[:,[0, 1, 2, 3, 5, 8, 14, 15, 16, 17]]\n",
    "Y = df.iloc[:, [12, 13, 10]]\n",
    "\n",
    "\n",
    "#preprocessing for numeric features\n",
    "\n",
    "numeric_features = [5]\n",
    "numeric_transformer = Pipeline(steps = [\n",
    "    ('scalar', StandardScaler())\n",
    "])\n",
    "\n",
    "#preprocessing for categorical features\n",
    "categorical_features = [0, 1, 2, 3, 4, 6, 7, 8]\n",
    "categorical_transformer = Pipeline(steps = [\n",
    "    ('onehot', OneHotEncoder(handle_unknown='ignore'))\n",
    "])\n",
    "\n",
    "\n",
    "# Combining preprocessing steps\n",
    "preprocessor = ColumnTransformer(\n",
    "    transformers = [\n",
    "        ('num', numeric_transformer, numeric_features),\n",
    "        ('cat', categorical_transformer, categorical_features)\n",
    "    ]\n",
    ")\n",
    "\n",
    "# Split the data 70%-30% into training set and test set\n",
    "X_train, X_test, Y_train, Y_test = train_test_split(X, Y, test_size=0.3, random_state=0)\n",
    "\n",
    "print ('Training Set: %d rows\\nTest Set: %d rows' % (X_train.shape[0], X_test.shape[0]))"
   ]
  },
  {
   "cell_type": "code",
   "execution_count": 157,
   "metadata": {},
   "outputs": [],
   "source": [
    "model_log = pd.DataFrame(columns = ['model', 'r2_score'])"
   ]
  },
  {
   "cell_type": "markdown",
   "metadata": {},
   "source": [
    "## Linear Regression w/o slope dummy variables"
   ]
  },
  {
   "cell_type": "code",
   "execution_count": 155,
   "metadata": {},
   "outputs": [],
   "source": [
    "# Create preprocessing and training pipeline\n",
    "\n",
    "model = Pipeline(steps = [('preprocessor', preprocessor),\n",
    "                            ('regressor', LinearRegression())])\n",
    "\n",
    "label = 'median_bid'\n",
    "\n",
    "# fit the pipeline to train a linear regression model\n",
    "model.fit(X_train, Y_train[label])\n",
    "\n",
    "predictions = model.predict(X_test)"
   ]
  },
  {
   "cell_type": "code",
   "execution_count": 158,
   "metadata": {},
   "outputs": [
    {
     "data": {
      "image/png": "[encoded data removed]",
      "text/plain": [
       "<Figure size 432x288 with 1 Axes>"
      ]
     },
     "metadata": {
      "needs_background": "light"
     },
     "output_type": "display_data"
    }
   ],
   "source": [
    "ax = plt.axes()\n",
    "plt.scatter(x = Y_test['median_bid'], y = predictions)\n",
    "ax.set_xlabel('True Y')\n",
    "ax.set_ylabel('Predicted Y')\n",
    "z = np.polyfit(x = Y_test['median_bid'], y = predictions, deg = 1)\n",
    "p = np.poly1d(z.flatten())\n",
    "plt.plot(Y_test['median_bid'], p(Y_test['median_bid']), color = 'black')\n",
    "\n",
    "plt.show()"
   ]
  },
  {
   "cell_type": "code",
   "execution_count": 159,
   "metadata": {},
   "outputs": [
    {
     "name": "stdout",
     "output_type": "stream",
     "text": [
      " R2: 0.406\n",
      " RMSE = 15.182\n"
     ]
    }
   ],
   "source": [
    "print(\" R2: {:.3f}\\n RMSE = {:.3f}\".format(r2_score(Y_test[[label]], predictions), mean_squared_error(Y_test[[label]], predictions)**0.5))\n",
    "\n",
    "model_log = model_log.append({\n",
    "    'model': 'Linear Regression',\n",
    "    'r2_score': r2_score\n",
    "}, ignore_index = True)"
   ]
  },
  {
   "cell_type": "markdown",
   "metadata": {},
   "source": [
    "## Decision Tree w/o Slope Dummies"
   ]
  },
  {
   "cell_type": "code",
   "execution_count": 160,
   "metadata": {},
   "outputs": [],
   "source": [
    "# List of values to try for max_depth:\n",
    "\n",
    "max_depth_range = list(range(1, 20))\n",
    "\n",
    "# List to store the accuracy for each value of max_depth:\n",
    "\n",
    "accuracy = []\n",
    "for depth in max_depth_range:\n",
    "    \n",
    "    clf = Pipeline(steps = [('preprocessor', preprocessor),\n",
    "                             ('regressor', tree.DecisionTreeRegressor(max_depth = depth, \n",
    "                             random_state = 0))])\n",
    "    clf.fit(X_train, Y_train)\n",
    "    score = clf.score(X_train, Y_train)\n",
    "    accuracy.append(score)\n",
    "\n",
    "i = accuracy.index(max(accuracy))\n",
    "\n",
    "clf = Pipeline(steps = [('preprocessor', preprocessor),\n",
    "                             ('regressor', tree.DecisionTreeRegressor(max_depth = i))])\n",
    "clf = clf.fit(X_train, Y_train)\n",
    "\n",
    "predictions = clf.predict(X_test)"
   ]
  },
  {
   "cell_type": "code",
   "execution_count": 162,
   "metadata": {},
   "outputs": [
    {
     "data": {
      "image/png": "[encoded data removed]",
      "text/plain": [
       "<Figure size 432x288 with 1 Axes>"
      ]
     },
     "metadata": {
      "needs_background": "light"
     },
     "output_type": "display_data"
    }
   ],
   "source": [
    "ax = plt.axes()\n",
    "plt.scatter(Y_test, predictions)\n",
    "ax.set_xlabel('True Y')\n",
    "ax.set_ylabel('Predicted Y')\n",
    "\n",
    "plt.show()"
   ]
  },
  {
   "cell_type": "code",
   "execution_count": 163,
   "metadata": {},
   "outputs": [
    {
     "name": "stdout",
     "output_type": "stream",
     "text": [
      " R2: 0.512\n",
      " RMSE = 12.311\n"
     ]
    }
   ],
   "source": [
    "print(\" R2: {:.3f}\\n RMSE = {:.3f}\".format(r2_score(Y_test, predictions), mean_squared_error(Y_test, predictions)**0.5))\n",
    "\n",
    "model_log = model_log.append({\n",
    "    'model': 'Decision Tree Regression',\n",
    "    'r2_score': r2_score\n",
    "}, ignore_index = True)"
   ]
  },
  {
   "cell_type": "markdown",
   "metadata": {},
   "source": [
    "## Random Forest w/o Slope Dummies"
   ]
  },
  {
   "cell_type": "code",
   "execution_count": 89,
   "metadata": {},
   "outputs": [
    {
     "name": "stderr",
     "output_type": "stream",
     "text": [
      "C:\\Users\\bhara\\AppData\\Local\\Programs\\Python\\Python310\\lib\\site-packages\\sklearn\\pipeline.py:394: DataConversionWarning: A column-vector y was passed when a 1d array was expected. Please change the shape of y to (n_samples,), for example using ravel().\n",
      "  self._final_estimator.fit(Xt, y, **fit_params_last_step)\n"
     ]
    }
   ],
   "source": [
    "forest = Pipeline(steps = [(\n",
    "    'preprocessor', preprocessor), (\n",
    "    'regressor', RandomForestRegressor()\n",
    ")])\n",
    "\n",
    "forest.fit(X_train, Y_train)\n",
    "\n",
    "predictions = forest.predict(X_test)"
   ]
  },
  {
   "cell_type": "code",
   "execution_count": 101,
   "metadata": {},
   "outputs": [
    {
     "data": {
      "image/png": "[encoded data removed]",
      "text/plain": [
       "<Figure size 432x288 with 1 Axes>"
      ]
     },
     "metadata": {
      "needs_background": "light"
     },
     "output_type": "display_data"
    }
   ],
   "source": [
    "plt.scatter(Y_test[label], predictions)\n",
    "plt.xlabel('True Y')\n",
    "plt.ylabel('Predicted Y')\n",
    "plt.show()"
   ]
  },
  {
   "cell_type": "code",
   "execution_count": 97,
   "metadata": {},
   "outputs": [
    {
     "name": "stdout",
     "output_type": "stream",
     "text": [
      " R2: 0.495\n",
      " RMSE = 13.996\n"
     ]
    }
   ],
   "source": [
    "print(\" R2: {:.3f}\\n RMSE = {:.3f}\".format(r2_score(Y_test[[label]], predictions), mean_squared_error(Y_test[[label]], predictions)**0.5))\n",
    "model_log = model_log.append({\n",
    "    'model': 'Random Forest',\n",
    "    'r2_score': r2_score\n",
    "}, ignore_index = True)"
   ]
  },
  {
   "cell_type": "markdown",
   "metadata": {},
   "source": [
    "In this segment, I try adding a dummy slope for the categorical variables to see if they improve the 3 models"
   ]
  },
  {
   "cell_type": "markdown",
   "metadata": {},
   "source": [
    "## Linear Regression w Slope Dummies"
   ]
  },
  {
   "cell_type": "code",
   "execution_count": 38,
   "metadata": {},
   "outputs": [
    {
     "name": "stdout",
     "output_type": "stream",
     "text": [
      "Training Set: 92400 rows\n",
      "Test Set: 39600 rows\n"
     ]
    }
   ],
   "source": [
    "X = df.iloc[:,[0, 1, 2, 3, 5, 8, 14, 15, 16]]\n",
    "Y = df.iloc[:, [12, 13, 10]]\n",
    "\n",
    "\n",
    "#preprocessing manually since pipelining doesn't work with column mutation\n",
    "\n",
    "numeric_transformer = StandardScaler()\n",
    "num = numeric_transformer.fit_transform(X.iloc[:, [5]])\n",
    "\n",
    "#preprocessing for categorical features\n",
    "categorical_transformer = OneHotEncoder(handle_unknown='ignore')\n",
    "cat = categorical_transformer.fit_transform(X.iloc[:, [0, 1, 2, 3, 4, 6, 7, 8]]).toarray()\n",
    "\n",
    "# Combining features\n",
    "slope_dummy = np.array(cat * num)\n",
    "X = np.concatenate([cat, num, slope_dummy], 1)\n",
    "\n",
    "# Split the data 70%-30% into training set and test set\n",
    "X_train, X_test, Y_train, Y_test = train_test_split(X, Y, test_size=0.3, random_state=0)\n",
    "\n",
    "print ('Training Set: %d rows\\nTest Set: %d rows' % (X_train.shape[0], X_test.shape[0]))"
   ]
  },
  {
   "cell_type": "code",
   "execution_count": 29,
   "metadata": {},
   "outputs": [],
   "source": [
    "\n",
    "model = LinearRegression()\n",
    "label = 'median_bid'\n",
    "\n",
    "# fit the linear regression model\n",
    "\n",
    "model.fit(X_train, Y_train[label])\n",
    "\n",
    "predictions = model.predict(X_test)"
   ]
  },
  {
   "cell_type": "code",
   "execution_count": 30,
   "metadata": {},
   "outputs": [
    {
     "data": {
      "image/png": "[encoded data removed]",
      "text/plain": [
       "<Figure size 432x288 with 1 Axes>"
      ]
     },
     "metadata": {
      "needs_background": "light"
     },
     "output_type": "display_data"
    }
   ],
   "source": [
    "ax = plt.axes()\n",
    "plt.scatter(x = Y_test[label], y = predictions)\n",
    "ax.set_xlabel('True Y')\n",
    "ax.set_ylabel('Predicted Y')\n",
    "z = np.polyfit(x = Y_test[label], y = predictions, deg = 1)\n",
    "p = np.poly1d(z.flatten())\n",
    "plt.plot(Y_test[label], p(Y_test[label]), color = 'black')\n",
    "\n",
    "plt.show()"
   ]
  },
  {
   "cell_type": "markdown",
   "metadata": {},
   "source": [
    "This model seems to generate extreme outliers among the predicted values. Let's filter those out"
   ]
  },
  {
   "cell_type": "code",
   "execution_count": 31,
   "metadata": {},
   "outputs": [],
   "source": [
    "pred = pd.DataFrame(predictions, columns = ['col'])\n",
    "\n",
    "filter = (pred['col'] >= 0) & (pred['col'] <= 150)\n",
    "true_y = Y_test.reset_index()\n",
    "true_y = true_y[[label]][filter]\n",
    "\n",
    "pred = pred[filter]"
   ]
  },
  {
   "cell_type": "markdown",
   "metadata": {},
   "source": [
    "Let's try plotting the graph again with the filtered values"
   ]
  },
  {
   "cell_type": "code",
   "execution_count": 32,
   "metadata": {},
   "outputs": [
    {
     "data": {
      "image/png": "[encoded data removed]",
      "text/plain": [
       "<Figure size 432x288 with 1 Axes>"
      ]
     },
     "metadata": {
      "needs_background": "light"
     },
     "output_type": "display_data"
    }
   ],
   "source": [
    "ax = plt.axes()\n",
    "plt.scatter(x = true_y[label], y = pred)\n",
    "ax.set_xlabel('True Y')\n",
    "ax.set_ylabel('Predicted Y')\n",
    "z = np.polyfit(x = true_y[label], y = pred, deg = 1)\n",
    "p = np.poly1d(z.flatten())\n",
    "plt.plot(true_y[label], p(true_y[label]), color = 'black')\n",
    "\n",
    "plt.show()"
   ]
  },
  {
   "cell_type": "code",
   "execution_count": 33,
   "metadata": {},
   "outputs": [
    {
     "name": "stdout",
     "output_type": "stream",
     "text": [
      " R2: 0.412\n",
      " RMSE = 15.649\n"
     ]
    }
   ],
   "source": [
    "print(\" R2: {:.3f}\\n RMSE = {:.3f}\".format(r2_score(true_y[[label]], pred), mean_squared_error(true_y[[label]], pred)**0.5))\n",
    "\n",
    "model_log = model_log.append({\n",
    "    'model': 'Lin Reg w slope dummies',\n",
    "    'r2_score': r2_score\n",
    "}, ignore_index = True)"
   ]
  },
  {
   "cell_type": "markdown",
   "metadata": {},
   "source": [
    "## Decision Tree w the Dummy Slopes"
   ]
  },
  {
   "cell_type": "code",
   "execution_count": 39,
   "metadata": {},
   "outputs": [],
   "source": [
    "# Identifying max_depth is infeasible at least on my local desktop\n",
    "\n",
    "# max_depth_range = list(range(1, 20))\n",
    "\n",
    "# accuracy = []\n",
    "# for depth in max_depth_range:\n",
    "    \n",
    "#     clf = tree.DecisionTreeRegressor(max_depth = depth, random_state = 0)\n",
    "\n",
    "#     clf.fit(X_train, Y_train)\n",
    "#     score = clf.score(X_train, Y_train)\n",
    "#     accuracy.append(score)\n",
    "\n",
    "# i = accuracy.index(max(accuracy))\n",
    "\n",
    "clf = tree.DecisionTreeRegressor(random_state = 0)\n",
    "\n",
    "clf = clf.fit(X_train, Y_train)\n",
    "\n",
    "predictions = clf.predict(X_test)"
   ]
  },
  {
   "cell_type": "code",
   "execution_count": 40,
   "metadata": {},
   "outputs": [
    {
     "data": {
      "image/png": "[encoded data removed]",
      "text/plain": [
       "<Figure size 432x288 with 1 Axes>"
      ]
     },
     "metadata": {
      "needs_background": "light"
     },
     "output_type": "display_data"
    }
   ],
   "source": [
    "ax = plt.axes()\n",
    "plt.scatter(Y_test, predictions)\n",
    "ax.set_xlabel('True Y')\n",
    "ax.set_ylabel('Predicted Y')\n",
    "\n",
    "plt.show()"
   ]
  },
  {
   "cell_type": "code",
   "execution_count": 41,
   "metadata": {},
   "outputs": [
    {
     "name": "stdout",
     "output_type": "stream",
     "text": [
      " R2: 0.382\n",
      " RMSE = 13.949\n"
     ]
    }
   ],
   "source": [
    "print(\" R2: {:.3f}\\n RMSE = {:.3f}\".format(r2_score(Y_test, predictions), mean_squared_error(Y_test, predictions)**0.5))\n",
    "\n",
    "model_log = model_log.append({\n",
    "    'model': 'Decision Tree w slope dummies',\n",
    "    'r2_score': r2_score\n",
    "}, ignore_index = True)"
   ]
  },
  {
   "cell_type": "code",
   "execution_count": 132,
   "metadata": {},
   "outputs": [
    {
     "data": {
      "text/html": [
       "<div>\n",
       "<style scoped>\n",
       "    .dataframe tbody tr th:only-of-type {\n",
       "        vertical-align: middle;\n",
       "    }\n",
       "\n",
       "    .dataframe tbody tr th {\n",
       "        vertical-align: top;\n",
       "    }\n",
       "\n",
       "    .dataframe thead th {\n",
       "        text-align: right;\n",
       "    }\n",
       "</style>\n",
       "<table border=\"1\" class=\"dataframe\">\n",
       "  <thead>\n",
       "    <tr style=\"text-align: right;\">\n",
       "      <th></th>\n",
       "      <th>model</th>\n",
       "      <th>r2_score</th>\n",
       "    </tr>\n",
       "  </thead>\n",
       "  <tbody>\n",
       "    <tr>\n",
       "      <th>1</th>\n",
       "      <td>Decision Tree Regression</td>\n",
       "      <td>0.512</td>\n",
       "    </tr>\n",
       "    <tr>\n",
       "      <th>2</th>\n",
       "      <td>Random Forest</td>\n",
       "      <td>0.495</td>\n",
       "    </tr>\n",
       "    <tr>\n",
       "      <th>3</th>\n",
       "      <td>Lin Reg w slope dummies</td>\n",
       "      <td>0.412</td>\n",
       "    </tr>\n",
       "    <tr>\n",
       "      <th>0</th>\n",
       "      <td>Linear Regression</td>\n",
       "      <td>0.406</td>\n",
       "    </tr>\n",
       "    <tr>\n",
       "      <th>4</th>\n",
       "      <td>Decision Tree w slope dummies</td>\n",
       "      <td>0.382</td>\n",
       "    </tr>\n",
       "  </tbody>\n",
       "</table>\n",
       "</div>"
      ],
      "text/plain": [
       "                           model r2_score\n",
       "1       Decision Tree Regression    0.512\n",
       "2                  Random Forest    0.495\n",
       "3        Lin Reg w slope dummies    0.412\n",
       "0              Linear Regression    0.406\n",
       "4  Decision Tree w slope dummies    0.382"
      ]
     },
     "execution_count": 132,
     "metadata": {},
     "output_type": "execute_result"
    }
   ],
   "source": [
    "# Models ranked best to worst\n",
    "\n",
    "model_log.sort_values('r2_score', ascending = False)"
   ]
  }
 ],
 "metadata": {
  "interpreter": {
   "hash": "ce9dd59b17171a7dc5c62bef797b1c0ccf233bc63b2e43d4133ac3f31084ae3b"
  },
  "kernelspec": {
   "display_name": "Python 3.8.5 32-bit",
   "name": "python3"
  },
  "language_info": {
   "codemirror_mode": {
    "name": "ipython",
    "version": 3
   },
   "file_extension": ".py",
   "mimetype": "text/x-python",
   "name": "python",
   "nbconvert_exporter": "python",
   "pygments_lexer": "ipython3",
   "version": "3.10.1"
  },
  "orig_nbformat": 4
 },
 "nbformat": 4,
 "nbformat_minor": 2
}
