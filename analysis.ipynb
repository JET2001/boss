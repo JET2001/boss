{
 "cells": [
  {
   "cell_type": "code",
   "execution_count": 1,
   "metadata": {},
   "outputs": [],
   "source": [
    "import pandas as pd\n",
    "import numpy as np\n",
    "import matplotlib.pyplot as plt"
   ]
  },
  {
   "cell_type": "markdown",
   "metadata": {},
   "source": [
    "# Feature Engineering"
   ]
  },
  {
   "cell_type": "code",
   "execution_count": 2,
   "metadata": {},
   "outputs": [],
   "source": [
    "df = pd.read_csv(\"overall.csv\")\n",
    "del df[\"Unnamed: 0\"]\n",
    "\n",
    "df.dropna(inplace = True)\n",
    "\n",
    "df['year'] = df['term'].apply(lambda x: x[0:7])\n",
    "df['term'] = df['term'].apply(lambda x: x[8:])\n",
    "df[\"before_process_vacancy\"].replace(0, np.nan, inplace = True)\n",
    "\n",
    "sections = df.groupby(['course_code', 'year', 'term'])[['session']].count().reset_index()\n",
    "sections = sections.rename({'session' : 'num_sections'}, axis = 1)\n",
    "\n",
    "df = df.merge(sections, how = 'left', on = ['course_code', 'year', 'term'])\n"
   ]
  },
  {
   "cell_type": "code",
   "execution_count": 3,
   "metadata": {},
   "outputs": [
    {
     "name": "stdout",
     "output_type": "stream",
     "text": [
      "<class 'pandas.core.frame.DataFrame'>\n",
      "Int64Index: 242894 entries, 0 to 242893\n",
      "Data columns (total 18 columns):\n",
      " #   Column                  Non-Null Count   Dtype  \n",
      "---  ------                  --------------   -----  \n",
      " 0   term                    242894 non-null  object \n",
      " 1   session                 242894 non-null  object \n",
      " 2   bidding_window          242894 non-null  object \n",
      " 3   course_code             242894 non-null  object \n",
      " 4   description             242894 non-null  object \n",
      " 5   section                 242894 non-null  object \n",
      " 6   vacancy                 242894 non-null  float64\n",
      " 7   opening_vacancy         242894 non-null  float64\n",
      " 8   before_process_vacancy  150638 non-null  float64\n",
      " 9   dice                    242894 non-null  float64\n",
      " 10  after_process_vacancy   242894 non-null  float64\n",
      " 11  enrolled_students       242894 non-null  float64\n",
      " 12  median_bid              242894 non-null  float64\n",
      " 13  min_bid                 242894 non-null  float64\n",
      " 14  instructor              242894 non-null  object \n",
      " 15  school                  242894 non-null  object \n",
      " 16  year                    242894 non-null  object \n",
      " 17  num_sections            242894 non-null  int64  \n",
      "dtypes: float64(8), int64(1), object(9)\n",
      "memory usage: 35.2+ MB\n"
     ]
    }
   ],
   "source": [
    "df.info()"
   ]
  },
  {
   "cell_type": "markdown",
   "metadata": {},
   "source": [
    "Let's check the null cells"
   ]
  },
  {
   "cell_type": "code",
   "execution_count": 4,
   "metadata": {},
   "outputs": [
    {
     "data": {
      "text/plain": [
       "<AxesSubplot:>"
      ]
     },
     "execution_count": 4,
     "metadata": {},
     "output_type": "execute_result"
    },
    {
     "data": {
      "image/png": "[encoded data removed]",
      "text/plain": [
       "<Figure size 432x288 with 1 Axes>"
      ]
     },
     "metadata": {
      "needs_background": "light"
     },
     "output_type": "display_data"
    }
   ],
   "source": [
    "df[df['before_process_vacancy'].isnull()].boxplot('after_process_vacancy')"
   ]
  },
  {
   "cell_type": "markdown",
   "metadata": {},
   "source": [
    "The cells appear to be recording error. Let's impute them with 0"
   ]
  },
  {
   "cell_type": "code",
   "execution_count": 5,
   "metadata": {},
   "outputs": [],
   "source": [
    "df.loc[df['before_process_vacancy'].isnull(), 'before_process_vacancy'] = 0"
   ]
  },
  {
   "cell_type": "code",
   "execution_count": 6,
   "metadata": {},
   "outputs": [
    {
     "data": {
      "text/plain": [
       "0"
      ]
     },
     "execution_count": 6,
     "metadata": {},
     "output_type": "execute_result"
    }
   ],
   "source": [
    "df.before_process_vacancy.isnull().sum()"
   ]
  },
  {
   "cell_type": "markdown",
   "metadata": {},
   "source": [
    "How are the bids distributed?"
   ]
  },
  {
   "cell_type": "code",
   "execution_count": 7,
   "metadata": {},
   "outputs": [
    {
     "data": {
      "text/html": [
       "<div>\n",
       "<style scoped>\n",
       "    .dataframe tbody tr th:only-of-type {\n",
       "        vertical-align: middle;\n",
       "    }\n",
       "\n",
       "    .dataframe tbody tr th {\n",
       "        vertical-align: top;\n",
       "    }\n",
       "\n",
       "    .dataframe thead th {\n",
       "        text-align: right;\n",
       "    }\n",
       "</style>\n",
       "<table border=\"1\" class=\"dataframe\">\n",
       "  <thead>\n",
       "    <tr style=\"text-align: right;\">\n",
       "      <th></th>\n",
       "      <th>before_process_vacancy</th>\n",
       "      <th>median_bid</th>\n",
       "      <th>min_bid</th>\n",
       "    </tr>\n",
       "  </thead>\n",
       "  <tbody>\n",
       "    <tr>\n",
       "      <th>count</th>\n",
       "      <td>242894.000000</td>\n",
       "      <td>242894.000000</td>\n",
       "      <td>242894.000000</td>\n",
       "    </tr>\n",
       "    <tr>\n",
       "      <th>mean</th>\n",
       "      <td>5.579825</td>\n",
       "      <td>8.501458</td>\n",
       "      <td>7.232290</td>\n",
       "    </tr>\n",
       "    <tr>\n",
       "      <th>std</th>\n",
       "      <td>9.659119</td>\n",
       "      <td>16.955614</td>\n",
       "      <td>15.195032</td>\n",
       "    </tr>\n",
       "    <tr>\n",
       "      <th>min</th>\n",
       "      <td>-46.000000</td>\n",
       "      <td>0.000000</td>\n",
       "      <td>0.000000</td>\n",
       "    </tr>\n",
       "    <tr>\n",
       "      <th>25%</th>\n",
       "      <td>0.000000</td>\n",
       "      <td>0.000000</td>\n",
       "      <td>0.000000</td>\n",
       "    </tr>\n",
       "    <tr>\n",
       "      <th>50%</th>\n",
       "      <td>1.000000</td>\n",
       "      <td>0.000000</td>\n",
       "      <td>0.000000</td>\n",
       "    </tr>\n",
       "    <tr>\n",
       "      <th>75%</th>\n",
       "      <td>6.000000</td>\n",
       "      <td>12.000000</td>\n",
       "      <td>10.000000</td>\n",
       "    </tr>\n",
       "    <tr>\n",
       "      <th>max</th>\n",
       "      <td>80.000000</td>\n",
       "      <td>496.390000</td>\n",
       "      <td>480.000000</td>\n",
       "    </tr>\n",
       "  </tbody>\n",
       "</table>\n",
       "</div>"
      ],
      "text/plain": [
       "       before_process_vacancy     median_bid        min_bid\n",
       "count           242894.000000  242894.000000  242894.000000\n",
       "mean                 5.579825       8.501458       7.232290\n",
       "std                  9.659119      16.955614      15.195032\n",
       "min                -46.000000       0.000000       0.000000\n",
       "25%                  0.000000       0.000000       0.000000\n",
       "50%                  1.000000       0.000000       0.000000\n",
       "75%                  6.000000      12.000000      10.000000\n",
       "max                 80.000000     496.390000     480.000000"
      ]
     },
     "execution_count": 7,
     "metadata": {},
     "output_type": "execute_result"
    }
   ],
   "source": [
    "df[['before_process_vacancy', 'median_bid', 'min_bid']].describe()"
   ]
  },
  {
   "cell_type": "code",
   "execution_count": 8,
   "metadata": {},
   "outputs": [
    {
     "data": {
      "image/png": "[encoded data removed]",
      "text/plain": [
       "<Figure size 1080x432 with 4 Axes>"
      ]
     },
     "metadata": {
      "needs_background": "light"
     },
     "output_type": "display_data"
    }
   ],
   "source": [
    "bids = ['median_bid', 'min_bid']\n",
    "\n",
    "fig, ax = plt.subplots(2, 2, figsize = (15, 6))\n",
    "\n",
    "for i in range(2):\n",
    "    ax[0, i].hist(df[bids[i]], density = True)\n",
    "    ax[0, i].set_title(bids[i])\n",
    "    ax[1, i].boxplot(df[bids[i]], vert = False)\n",
    "    ax[0, i].axvline(df[bids[i]].mean(), color='magenta', linestyle='dashed', linewidth=2)\n",
    "    ax[0, i].axvline(df[bids[i]].median(), color='cyan', linestyle='dashed', linewidth=2)\n",
    "\n",
    "ax[0, 0].set_ylabel('frequency')\n",
    "\n",
    "plt.show()"
   ]
  },
  {
   "cell_type": "code",
   "execution_count": 9,
   "metadata": {},
   "outputs": [
    {
     "data": {
      "image/png": "[encoded data removed]",
      "text/plain": [
       "<Figure size 1080x432 with 4 Axes>"
      ]
     },
     "metadata": {
      "needs_background": "light"
     },
     "output_type": "display_data"
    }
   ],
   "source": [
    "# Visualising it without outliers\n",
    "\n",
    "visual = df.query('0 < median_bid < 90')\n",
    "\n",
    "fig, ax = plt.subplots(2, 2, figsize = (15, 6))\n",
    "\n",
    "for i in range(2):\n",
    "    ax[0, i].hist(visual[bids[i]], density = True)\n",
    "    ax[0, i].set_title(bids[i])\n",
    "    ax[1, i].boxplot(visual[bids[i]], vert = False)\n",
    "    ax[0, i].axvline(visual[bids[i]].mean(), color='magenta', linestyle='dashed', linewidth=2)\n",
    "    ax[0, i].axvline(visual[bids[i]].median(), color='cyan', linestyle='dashed', linewidth=2)\n",
    "\n",
    "ax[0, 0].set_ylabel('frequency')\n",
    "\n",
    "plt.show()"
   ]
  },
  {
   "cell_type": "code",
   "execution_count": 46,
   "metadata": {},
   "outputs": [],
   "source": [
    "# Graphing function\n",
    "\n",
    "def corr_plot(x):\n",
    "    %matplotlib inline\n",
    "    fig = plt.figure()\n",
    "    ax = fig.gca()\n",
    "    ax.scatter(x, df['median_bid'], label = 'Median bid')\n",
    "    ax.scatter(x, df['min_bid'], label = 'Min bid')\n",
    "    ax.set_xlabel(x.name)\n",
    "    ax.set_ylabel('Bids')\n",
    "    ax.set_title('%s v. Bids' % x.name)\n",
    "    plt.show()\n",
    "\n",
    "    ax. legend\n",
    "    print(\"{} v. Median Bid Correlation: {:.2%}\".format(x.name, x.corr(df.median_bid)))\n",
    "    print(\"{} v. Min Bid Correlation: {:.2%}\".format(x.name, x.corr(df.min_bid)))\n",
    "    \n"
   ]
  },
  {
   "cell_type": "code",
   "execution_count": 11,
   "metadata": {},
   "outputs": [
    {
     "name": "stdout",
     "output_type": "stream",
     "text": [
      "before_process_vacancy v. Median Bid Correlation: 21.45%\n",
      "before_process_vacancy v. Min Bid Correlation: 14.51%\n",
      "num_sections v. Median Bid Correlation: -10.46%\n",
      "num_sections v. Min Bid Correlation: -9.29%\n"
     ]
    },
    {
     "data": {
      "image/png": "[encoded data removed]",
      "text/plain": [
       "<Figure size 432x288 with 1 Axes>"
      ]
     },
     "metadata": {
      "needs_background": "light"
     },
     "output_type": "display_data"
    },
    {
     "data": {
      "image/png": "[encoded data removed]",
      "text/plain": [
       "<Figure size 432x288 with 1 Axes>"
      ]
     },
     "metadata": {
      "needs_background": "light"
     },
     "output_type": "display_data"
    }
   ],
   "source": [
    "corr_plot(df.before_process_vacancy)\n",
    "corr_plot(df.num_sections)"
   ]
  },
  {
   "cell_type": "markdown",
   "metadata": {},
   "source": [
    "Some entries seem to have negative vacancies. Let's chalk those up to recording error."
   ]
  },
  {
   "cell_type": "code",
   "execution_count": 12,
   "metadata": {},
   "outputs": [],
   "source": [
    "df.loc[df['before_process_vacancy'] < 0, 'before_process_vacancy'] = 0\n",
    "df.loc[df['after_process_vacancy'] < 0, 'after_process_vacancy'] = 0"
   ]
  },
  {
   "cell_type": "markdown",
   "metadata": {},
   "source": [
    "# Building the predictive model"
   ]
  },
  {
   "cell_type": "code",
   "execution_count": 13,
   "metadata": {},
   "outputs": [],
   "source": [
    "from sklearn.linear_model import LinearRegression\n",
    "from sklearn import tree\n",
    "from sklearn.ensemble import RandomForestRegressor\n",
    "from sklearn.metrics import r2_score, mean_squared_error\n",
    "from sklearn.preprocessing import StandardScaler, OneHotEncoder\n",
    "from sklearn.compose import ColumnTransformer\n",
    "from sklearn.pipeline import Pipeline\n",
    "from sklearn.model_selection import train_test_split"
   ]
  },
  {
   "cell_type": "code",
   "execution_count": 47,
   "metadata": {},
   "outputs": [],
   "source": [
    "# results_record\n",
    "\n",
    "model_log = pd.DataFrame(columns = ['model', 'r2_score'])\n",
    "\n",
    "def results(model, y_true, y_pred ):\n",
    "    %matplotlib inline\n",
    "    fig = plt.figure()\n",
    "    ax = fig.gca()\n",
    "    plt.scatter(x = y_true, y = y_pred)\n",
    "    ax.set_xlabel('True Y')\n",
    "    ax.set_ylabel('Predicted Y')\n",
    "    try:\n",
    "        z = np.polyfit(x = y_true, y = y_pred, deg = 1)\n",
    "        p = np.poly1d(z.flatten())\n",
    "        plt.plot(y_true, p(y_true), color = 'black')\n",
    "    except Exception:\n",
    "        pass\n",
    "\n",
    "    plt.show()\n",
    "\n",
    "    print(\" R2: {:.3%}\\n RMSE = {:.3f}\".format(r2_score(y_true, y_pred), mean_squared_error(y_true, y_pred)**0.5))\n",
    "\n",
    "    global model_log\n",
    "\n",
    "    model_log = model_log.append({\n",
    "    'model': model,\n",
    "    'r2_score': r2_score(y_true, y_pred)\n",
    "    }, ignore_index = True)"
   ]
  },
  {
   "cell_type": "code",
   "execution_count": 43,
   "metadata": {},
   "outputs": [
    {
     "name": "stdout",
     "output_type": "stream",
     "text": [
      "Training Set: 170025 rows\n",
      "Test Set: 72869 rows\n"
     ]
    }
   ],
   "source": [
    "X = df.iloc[:,[0, 1, 2, 3, 5, 8, 14, 15, 16, 17]]\n",
    "Y = df.iloc[:, [12, 13, 10]]\n",
    "\n",
    "\n",
    "#preprocessing for numeric features\n",
    "\n",
    "numeric_features = [5, 9]\n",
    "numeric_transformer = Pipeline(steps = [\n",
    "    ('scalar', StandardScaler())\n",
    "])\n",
    "\n",
    "#preprocessing for categorical features\n",
    "categorical_features = [0, 1, 2, 3, 4, 6, 7, 8]\n",
    "categorical_transformer = Pipeline(steps = [\n",
    "    ('onehot', OneHotEncoder(handle_unknown='ignore'))\n",
    "])\n",
    "\n",
    "\n",
    "# Combining preprocessing steps\n",
    "preprocessor = ColumnTransformer(\n",
    "    transformers = [\n",
    "        ('num', numeric_transformer, numeric_features),\n",
    "        ('cat', categorical_transformer, categorical_features)\n",
    "    ]\n",
    ")\n",
    "\n",
    "# Split the data 70%-30% into training set and test set\n",
    "X_train, X_test, Y_train, Y_test = train_test_split(X, Y, test_size=0.3, random_state=0)\n",
    "\n",
    "print ('Training Set: %d rows\\nTest Set: %d rows' % (X_train.shape[0], X_test.shape[0]))"
   ]
  },
  {
   "cell_type": "markdown",
   "metadata": {},
   "source": [
    "## Linear Regression w/o slope dummy variables"
   ]
  },
  {
   "cell_type": "code",
   "execution_count": 44,
   "metadata": {},
   "outputs": [],
   "source": [
    "# Create preprocessing and training pipeline\n",
    "\n",
    "ln = Pipeline(steps = [('preprocessor', preprocessor),\n",
    "                            ('regressor', LinearRegression())])\n",
    "\n",
    "label = 'median_bid'\n",
    "\n",
    "# fit the pipeline to train a linear regression model\n",
    "ln.fit(X_train, Y_train[label])\n",
    "\n",
    "predictions = ln.predict(X_test)"
   ]
  },
  {
   "cell_type": "code",
   "execution_count": 45,
   "metadata": {},
   "outputs": [
    {
     "data": {
      "image/png": "[encoded data removed]",
      "text/plain": [
       "<Figure size 432x288 with 1 Axes>"
      ]
     },
     "metadata": {
      "needs_background": "light"
     },
     "output_type": "display_data"
    },
    {
     "name": "stdout",
     "output_type": "stream",
     "text": [
      " R2: 26.723%\n",
      " RMSE = 14.583\n"
     ]
    }
   ],
   "source": [
    "results('ln', Y_test[label], predictions)"
   ]
  },
  {
   "cell_type": "markdown",
   "metadata": {},
   "source": [
    "## Decision Tree w/o Slope Dummies"
   ]
  },
  {
   "cell_type": "code",
   "execution_count": 18,
   "metadata": {},
   "outputs": [],
   "source": [
    "# List of values to try for max_depth:\n",
    "\n",
    "max_depth_range = list(range(1, 20))\n",
    "\n",
    "# List to store the accuracy for each value of max_depth:\n",
    "\n",
    "accuracy = []\n",
    "for depth in max_depth_range:\n",
    "    \n",
    "    dec_tree = Pipeline(steps = [('preprocessor', preprocessor),\n",
    "                             ('regressor', tree.DecisionTreeRegressor(max_depth = depth, \n",
    "                             random_state = 0))])\n",
    "    dec_tree.fit(X_train, Y_train)\n",
    "    score = dec_tree.score(X_train, Y_train)\n",
    "    accuracy.append(score)\n",
    "\n",
    "i = accuracy.index(max(accuracy))\n",
    "\n",
    "dec_tree = Pipeline(steps = [('preprocessor', preprocessor),\n",
    "                             ('regressor', tree.DecisionTreeRegressor(max_depth = i))])\n",
    "dec_tree = dec_tree.fit(X_train, Y_train)\n",
    "\n",
    "predictions = dec_tree.predict(X_test)"
   ]
  },
  {
   "cell_type": "code",
   "execution_count": 19,
   "metadata": {},
   "outputs": [
    {
     "data": {
      "image/png": "[encoded data removed]",
      "text/plain": [
       "<Figure size 432x288 with 1 Axes>"
      ]
     },
     "metadata": {
      "needs_background": "light"
     },
     "output_type": "display_data"
    },
    {
     "name": "stdout",
     "output_type": "stream",
     "text": [
      " R2: 58.035%\n",
      " RMSE = 9.804\n"
     ]
    }
   ],
   "source": [
    "results('dec_tree', Y_test, predictions)"
   ]
  },
  {
   "cell_type": "markdown",
   "metadata": {},
   "source": [
    "## Random Forest w/o Slope Dummies"
   ]
  },
  {
   "cell_type": "code",
   "execution_count": null,
   "metadata": {},
   "outputs": [],
   "source": [
    "forest = Pipeline(steps = [(\n",
    "    'preprocessor', preprocessor), (\n",
    "    'regressor', RandomForestRegressor()\n",
    ")])\n",
    "\n",
    "forest.fit(X_train, Y_train)\n",
    "\n",
    "predictions = forest.predict(X_test)"
   ]
  },
  {
   "cell_type": "code",
   "execution_count": null,
   "metadata": {},
   "outputs": [],
   "source": [
    "results('forest', Y_test, predictions)"
   ]
  },
  {
   "cell_type": "markdown",
   "metadata": {},
   "source": [
    "In this segment, I try adding a dummy slope for the categorical variables to see if they improve the 3 models"
   ]
  },
  {
   "cell_type": "markdown",
   "metadata": {},
   "source": [
    "## Linear Regression w Slope Dummies"
   ]
  },
  {
   "cell_type": "code",
   "execution_count": 23,
   "metadata": {},
   "outputs": [
    {
     "name": "stdout",
     "output_type": "stream",
     "text": [
      "Training Set: 170025 rows\n",
      "Test Set: 72869 rows\n"
     ]
    }
   ],
   "source": [
    "X = df.iloc[:,[0, 1, 2, 3, 5, 8, 14, 15, 16, 17]]\n",
    "Y = df.iloc[:, [12, 13, 10]]\n",
    "\n",
    "\n",
    "#preprocessing manually since pipelining doesn't work with column mutation\n",
    "\n",
    "numeric_transformer = StandardScaler()\n",
    "num = numeric_transformer.fit_transform(X.iloc[:, [5, 9]])\n",
    "\n",
    "#preprocessing for categorical features\n",
    "categorical_transformer = OneHotEncoder(handle_unknown='ignore')\n",
    "cat = categorical_transformer.fit_transform(X.iloc[:, [0, 1, 2, 3, 4, 6, 7, 8]]).toarray()\n",
    "\n",
    "# Combining features\n",
    "X = np.concatenate([cat, num], 1)\n",
    "for i in range( num.shape[1] ):\n",
    "    slope_dummy = cat[:, [3]] * num[:, [i]]\n",
    "    X = np.concatenate([X, slope_dummy], 1)\n",
    "\n",
    "# Split the data 70%-30% into training set and test set\n",
    "X_train, X_test, Y_train, Y_test = train_test_split(X, Y, test_size=0.3, random_state=0)\n",
    "\n",
    "print ('Training Set: %d rows\\nTest Set: %d rows' % (X_train.shape[0], X_test.shape[0]))"
   ]
  },
  {
   "cell_type": "code",
   "execution_count": 25,
   "metadata": {},
   "outputs": [],
   "source": [
    "\n",
    "ln_dummy = LinearRegression()\n",
    "label = 'median_bid'\n",
    "\n",
    "# fit the linear regression model\n",
    "\n",
    "ln_dummy.fit(X_train, Y_train[label])\n",
    "\n",
    "predictions = ln_dummy.predict(X_test)"
   ]
  },
  {
   "cell_type": "code",
   "execution_count": 26,
   "metadata": {},
   "outputs": [
    {
     "data": {
      "image/png": "[encoded data removed]",
      "text/plain": [
       "<Figure size 432x288 with 1 Axes>"
      ]
     },
     "metadata": {
      "needs_background": "light"
     },
     "output_type": "display_data"
    },
    {
     "name": "stdout",
     "output_type": "stream",
     "text": [
      " R2: -11238531763523563520.000%\n",
      " RMSE = 5711246865.676\n"
     ]
    }
   ],
   "source": [
    "results('ln_dummy', Y_test[label], predictions)"
   ]
  },
  {
   "cell_type": "markdown",
   "metadata": {},
   "source": [
    "This model seems to generate extreme outliers among the predicted values. Let's filter those out"
   ]
  },
  {
   "cell_type": "code",
   "execution_count": 36,
   "metadata": {},
   "outputs": [],
   "source": [
    "model_log = model_log[model_log['model']!= 'ln_dummy']\n",
    "\n",
    "pred = pd.DataFrame(predictions, columns = ['col'])\n",
    "\n",
    "filter = (pred['col'] >= 0) & (pred['col'] <= 150)\n",
    "true_y = Y_test.reset_index()\n",
    "true_y = true_y[[label]][filter]\n",
    "\n",
    "pred = pred[filter]"
   ]
  },
  {
   "cell_type": "markdown",
   "metadata": {},
   "source": [
    "Let's try plotting the graph again with the filtered values"
   ]
  },
  {
   "cell_type": "code",
   "execution_count": 37,
   "metadata": {},
   "outputs": [
    {
     "data": {
      "image/png": "[encoded data removed]",
      "text/plain": [
       "<Figure size 432x288 with 1 Axes>"
      ]
     },
     "metadata": {
      "needs_background": "light"
     },
     "output_type": "display_data"
    },
    {
     "name": "stdout",
     "output_type": "stream",
     "text": [
      " R2: 24.452%\n",
      " RMSE = 15.931\n"
     ]
    }
   ],
   "source": [
    "results('ln_dummy', true_y, pred)"
   ]
  },
  {
   "cell_type": "markdown",
   "metadata": {},
   "source": [
    "## Decision Tree w the Dummy Slopes"
   ]
  },
  {
   "cell_type": "code",
   "execution_count": null,
   "metadata": {},
   "outputs": [],
   "source": [
    "# Identifying max_depth is infeasible at least on my local desktop\n",
    "\n",
    "# max_depth_range = list(range(1, 20))\n",
    "\n",
    "# accuracy = []\n",
    "# for depth in max_depth_range:\n",
    "    \n",
    "#     dec_tree_dummy = tree.DecisionTreeRegressor(max_depth = depth, random_state = 0)\n",
    "\n",
    "#     dec_tree_dummy.fit(X_train, Y_train)\n",
    "#     score = dec_tree_dummy.score(X_train, Y_train)\n",
    "#     accuracy.append(score)\n",
    "\n",
    "# i = accuracy.index(max(accuracy))\n",
    "\n",
    "dec_tree_dummy = tree.DecisionTreeRegressor(random_state = 0)\n",
    "\n",
    "dec_tree_dummy.fit(X_train, Y_train)\n",
    "\n",
    "predictions = dec_tree_dummy.predict(X_test)"
   ]
  },
  {
   "cell_type": "code",
   "execution_count": null,
   "metadata": {},
   "outputs": [],
   "source": [
    "results('dec_tree_dummy', Y_test, predictions)"
   ]
  },
  {
   "cell_type": "markdown",
   "metadata": {},
   "source": [
    "# Random Forest w Dummy Slopes"
   ]
  },
  {
   "cell_type": "code",
   "execution_count": null,
   "metadata": {},
   "outputs": [],
   "source": [
    "forest_dummy = RandomForestRegressor()\n",
    "\n",
    "forest_dummy.fit(X_train, Y_train)\n",
    "\n",
    "predictions = forest_dummy.predict(X_test)"
   ]
  },
  {
   "cell_type": "code",
   "execution_count": null,
   "metadata": {},
   "outputs": [],
   "source": [
    "results('forest_dummy', Y_test, predictions)"
   ]
  },
  {
   "cell_type": "code",
   "execution_count": null,
   "metadata": {},
   "outputs": [],
   "source": [
    "# Models ranked best to worst\n",
    "\n",
    "model_log.sort_values('r2_score', ascending = False)"
   ]
  }
 ],
 "metadata": {
  "interpreter": {
   "hash": "ce9dd59b17171a7dc5c62bef797b1c0ccf233bc63b2e43d4133ac3f31084ae3b"
  },
  "kernelspec": {
   "display_name": "Python 3.8.5 32-bit",
   "name": "python3"
  },
  "language_info": {
   "codemirror_mode": {
    "name": "ipython",
    "version": 3
   },
   "file_extension": ".py",
   "mimetype": "text/x-python",
   "name": "python",
   "nbconvert_exporter": "python",
   "pygments_lexer": "ipython3",
   "version": "3.10.1"
  },
  "orig_nbformat": 4
 },
 "nbformat": 4,
 "nbformat_minor": 2
}
