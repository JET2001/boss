{
 "cells": [
  {
   "cell_type": "code",
   "execution_count": 13,
   "metadata": {},
   "outputs": [],
   "source": [
    "import pandas as pd\n",
    "import numpy as np\n",
    "import matplotlib.pyplot as plt"
   ]
  },
  {
   "cell_type": "markdown",
   "metadata": {},
   "source": [
    "# Cleaning the dataset"
   ]
  },
  {
   "cell_type": "code",
   "execution_count": 14,
   "metadata": {},
   "outputs": [],
   "source": [
    "df = pd.read_csv(\"overall.csv\")\n",
    "del df[\"Unnamed: 0\"]\n",
    "\n",
    "df['year'] = df['term'].apply(lambda x: x[0:7])\n",
    "df['term'] = df['term'].apply(lambda x: x[8:])\n",
    "df[\"before_process_vacancy\"].replace(0, np.nan, inplace = True)\n",
    "df.dropna(inplace = True)"
   ]
  },
  {
   "cell_type": "code",
   "execution_count": 15,
   "metadata": {},
   "outputs": [
    {
     "name": "stdout",
     "output_type": "stream",
     "text": [
      "<class 'pandas.core.frame.DataFrame'>\n",
      "Int64Index: 132000 entries, 1 to 217811\n",
      "Data columns (total 17 columns):\n",
      " #   Column                  Non-Null Count   Dtype  \n",
      "---  ------                  --------------   -----  \n",
      " 0   term                    132000 non-null  object \n",
      " 1   session                 132000 non-null  object \n",
      " 2   bidding_window          132000 non-null  object \n",
      " 3   course_code             132000 non-null  object \n",
      " 4   description             132000 non-null  object \n",
      " 5   section                 132000 non-null  object \n",
      " 6   vacancy                 132000 non-null  int64  \n",
      " 7   opening_vacancy         132000 non-null  int64  \n",
      " 8   before_process_vacancy  132000 non-null  float64\n",
      " 9   dice                    132000 non-null  int64  \n",
      " 10  after_process_vacancy   132000 non-null  int64  \n",
      " 11  enrolled_students       132000 non-null  int64  \n",
      " 12  median_bid              132000 non-null  float64\n",
      " 13  min_bid                 132000 non-null  float64\n",
      " 14  instructor              132000 non-null  object \n",
      " 15  school                  132000 non-null  object \n",
      " 16  year                    132000 non-null  object \n",
      "dtypes: float64(3), int64(5), object(9)\n",
      "memory usage: 18.1+ MB\n"
     ]
    }
   ],
   "source": [
    "df.info()"
   ]
  },
  {
   "cell_type": "markdown",
   "metadata": {},
   "source": [
    "Filtering"
   ]
  },
  {
   "cell_type": "code",
   "execution_count": 16,
   "metadata": {},
   "outputs": [],
   "source": [
    "#Taking a sample module to visualise the distribution of the labels\n",
    "\n",
    "cor1305 = df[df['course_code'] == 'COR1305']"
   ]
  },
  {
   "cell_type": "markdown",
   "metadata": {},
   "source": [
    "How are the bids distributed?"
   ]
  },
  {
   "cell_type": "code",
   "execution_count": 17,
   "metadata": {},
   "outputs": [
    {
     "data": {
      "text/html": [
       "<div>\n",
       "<style scoped>\n",
       "    .dataframe tbody tr th:only-of-type {\n",
       "        vertical-align: middle;\n",
       "    }\n",
       "\n",
       "    .dataframe tbody tr th {\n",
       "        vertical-align: top;\n",
       "    }\n",
       "\n",
       "    .dataframe thead th {\n",
       "        text-align: right;\n",
       "    }\n",
       "</style>\n",
       "<table border=\"1\" class=\"dataframe\">\n",
       "  <thead>\n",
       "    <tr style=\"text-align: right;\">\n",
       "      <th></th>\n",
       "      <th>vacancy</th>\n",
       "      <th>opening_vacancy</th>\n",
       "      <th>before_process_vacancy</th>\n",
       "      <th>dice</th>\n",
       "      <th>after_process_vacancy</th>\n",
       "      <th>enrolled_students</th>\n",
       "      <th>median_bid</th>\n",
       "      <th>min_bid</th>\n",
       "    </tr>\n",
       "  </thead>\n",
       "  <tbody>\n",
       "    <tr>\n",
       "      <th>count</th>\n",
       "      <td>797.000000</td>\n",
       "      <td>797.000000</td>\n",
       "      <td>797.000000</td>\n",
       "      <td>797.000000</td>\n",
       "      <td>797.000000</td>\n",
       "      <td>797.000000</td>\n",
       "      <td>797.000000</td>\n",
       "      <td>797.000000</td>\n",
       "    </tr>\n",
       "    <tr>\n",
       "      <th>mean</th>\n",
       "      <td>45.017566</td>\n",
       "      <td>41.554580</td>\n",
       "      <td>7.176913</td>\n",
       "      <td>0.005019</td>\n",
       "      <td>3.115433</td>\n",
       "      <td>38.439147</td>\n",
       "      <td>20.271179</td>\n",
       "      <td>17.875546</td>\n",
       "    </tr>\n",
       "    <tr>\n",
       "      <th>std</th>\n",
       "      <td>1.166833</td>\n",
       "      <td>4.715642</td>\n",
       "      <td>8.862578</td>\n",
       "      <td>0.070710</td>\n",
       "      <td>3.946148</td>\n",
       "      <td>5.210675</td>\n",
       "      <td>22.318784</td>\n",
       "      <td>20.607999</td>\n",
       "    </tr>\n",
       "    <tr>\n",
       "      <th>min</th>\n",
       "      <td>42.000000</td>\n",
       "      <td>30.000000</td>\n",
       "      <td>1.000000</td>\n",
       "      <td>0.000000</td>\n",
       "      <td>0.000000</td>\n",
       "      <td>3.000000</td>\n",
       "      <td>0.000000</td>\n",
       "      <td>0.000000</td>\n",
       "    </tr>\n",
       "    <tr>\n",
       "      <th>25%</th>\n",
       "      <td>45.000000</td>\n",
       "      <td>40.000000</td>\n",
       "      <td>2.000000</td>\n",
       "      <td>0.000000</td>\n",
       "      <td>0.000000</td>\n",
       "      <td>35.000000</td>\n",
       "      <td>0.000000</td>\n",
       "      <td>0.000000</td>\n",
       "    </tr>\n",
       "    <tr>\n",
       "      <th>50%</th>\n",
       "      <td>45.000000</td>\n",
       "      <td>44.000000</td>\n",
       "      <td>4.000000</td>\n",
       "      <td>0.000000</td>\n",
       "      <td>1.000000</td>\n",
       "      <td>40.000000</td>\n",
       "      <td>12.750000</td>\n",
       "      <td>10.030000</td>\n",
       "    </tr>\n",
       "    <tr>\n",
       "      <th>75%</th>\n",
       "      <td>45.000000</td>\n",
       "      <td>45.000000</td>\n",
       "      <td>9.000000</td>\n",
       "      <td>0.000000</td>\n",
       "      <td>5.000000</td>\n",
       "      <td>42.000000</td>\n",
       "      <td>40.020000</td>\n",
       "      <td>35.100000</td>\n",
       "    </tr>\n",
       "    <tr>\n",
       "      <th>max</th>\n",
       "      <td>47.000000</td>\n",
       "      <td>45.000000</td>\n",
       "      <td>38.000000</td>\n",
       "      <td>1.000000</td>\n",
       "      <td>34.000000</td>\n",
       "      <td>45.000000</td>\n",
       "      <td>93.710000</td>\n",
       "      <td>93.710000</td>\n",
       "    </tr>\n",
       "  </tbody>\n",
       "</table>\n",
       "</div>"
      ],
      "text/plain": [
       "          vacancy  opening_vacancy  before_process_vacancy        dice  \\\n",
       "count  797.000000       797.000000              797.000000  797.000000   \n",
       "mean    45.017566        41.554580                7.176913    0.005019   \n",
       "std      1.166833         4.715642                8.862578    0.070710   \n",
       "min     42.000000        30.000000                1.000000    0.000000   \n",
       "25%     45.000000        40.000000                2.000000    0.000000   \n",
       "50%     45.000000        44.000000                4.000000    0.000000   \n",
       "75%     45.000000        45.000000                9.000000    0.000000   \n",
       "max     47.000000        45.000000               38.000000    1.000000   \n",
       "\n",
       "       after_process_vacancy  enrolled_students  median_bid     min_bid  \n",
       "count             797.000000         797.000000  797.000000  797.000000  \n",
       "mean                3.115433          38.439147   20.271179   17.875546  \n",
       "std                 3.946148           5.210675   22.318784   20.607999  \n",
       "min                 0.000000           3.000000    0.000000    0.000000  \n",
       "25%                 0.000000          35.000000    0.000000    0.000000  \n",
       "50%                 1.000000          40.000000   12.750000   10.030000  \n",
       "75%                 5.000000          42.000000   40.020000   35.100000  \n",
       "max                34.000000          45.000000   93.710000   93.710000  "
      ]
     },
     "execution_count": 17,
     "metadata": {},
     "output_type": "execute_result"
    }
   ],
   "source": [
    "cor1305.describe()"
   ]
  },
  {
   "cell_type": "code",
   "execution_count": 18,
   "metadata": {},
   "outputs": [
    {
     "data": {
      "image/png": "[encoded data removed]",
      "text/plain": [
       "<Figure size 1080x432 with 4 Axes>"
      ]
     },
     "metadata": {
      "needs_background": "light"
     },
     "output_type": "display_data"
    }
   ],
   "source": [
    "bids = ['median_bid', 'min_bid']\n",
    "\n",
    "fig, ax = plt.subplots(2, 2, figsize = (15, 6))\n",
    "\n",
    "for i in range(2):\n",
    "    ax[0, i].hist(cor1305[bids[i]], density = True)\n",
    "    ax[0, i].set_title(bids[i])\n",
    "    ax[1, i].boxplot(cor1305[bids[i]], vert = False)\n",
    "    ax[0, i].axvline(cor1305[bids[i]].mean(), color='magenta', linestyle='dashed', linewidth=2)\n",
    "    ax[0, i].axvline(cor1305[bids[i]].median(), color='cyan', linestyle='dashed', linewidth=2)\n",
    "\n",
    "ax[0, 0].set_ylabel('frequency')\n",
    "\n",
    "plt.show()"
   ]
  },
  {
   "cell_type": "code",
   "execution_count": 81,
   "metadata": {},
   "outputs": [
    {
     "name": "stdout",
     "output_type": "stream",
     "text": [
      "Vacancies v. Median Bid Correlation: 26.20%\n",
      "Vacancies v. Min Bid Correlation: 20.11%\n"
     ]
    },
    {
     "data": {
      "image/png": "[encoded data removed]",
      "text/plain": [
       "<Figure size 432x288 with 1 Axes>"
      ]
     },
     "metadata": {
      "needs_background": "light"
     },
     "output_type": "display_data"
    }
   ],
   "source": [
    "fig = plt.figure()\n",
    "ax = fig.gca()\n",
    "ax.scatter(cor1305['before_process_vacancy'], cor1305['median_bid'], label = 'Median Bid')\n",
    "ax.scatter(cor1305['before_process_vacancy'], cor1305['min_bid'], label = 'Median Bid')\n",
    "ax.set_xlabel('Vacancies')\n",
    "ax.set_ylabel('Bids')\n",
    "ax.set_title('Vacancies v. Bids')\n",
    "\n",
    "\n",
    "ax.legend()\n",
    "\n",
    "print(\"Vacancies v. Median Bid Correlation: {:.2%}\".format(cor1305.before_process_vacancy.corr(cor1305.median_bid)))\n",
    "print(\"Vacancies v. Min Bid Correlation: {:.2%}\".format(cor1305.before_process_vacancy.corr(cor1305.min_bid)))"
   ]
  },
  {
   "cell_type": "markdown",
   "metadata": {},
   "source": [
    "# Building a predictive model"
   ]
  },
  {
   "cell_type": "code",
   "execution_count": 85,
   "metadata": {},
   "outputs": [],
   "source": [
    "from sklearn.linear_model import LinearRegression\n",
    "from sklearn import tree\n",
    "from sklearn.ensemble import RandomForestRegressor\n",
    "from sklearn.metrics import r2_score, mean_squared_error\n",
    "from sklearn.preprocessing import StandardScaler, OneHotEncoder\n",
    "from sklearn.compose import ColumnTransformer\n",
    "from sklearn.pipeline import Pipeline\n",
    "from sklearn.model_selection import train_test_split"
   ]
  },
  {
   "cell_type": "code",
   "execution_count": 87,
   "metadata": {},
   "outputs": [
    {
     "name": "stdout",
     "output_type": "stream",
     "text": [
      "Training Set: 92400 rows\n",
      "Test Set: 39600 rows\n"
     ]
    }
   ],
   "source": [
    "X = df.iloc[:,[0, 1, 2, 3, 5, 8, 14, 15, 16]]\n",
    "Y = df.iloc[:, [12, 13, 10]]\n",
    "\n",
    "\n",
    "#preprocessing for numeric features\n",
    "\n",
    "numeric_features = [5]\n",
    "numeric_transformer = Pipeline(steps = [\n",
    "    ('scalar', StandardScaler())\n",
    "])\n",
    "\n",
    "#preprocessing for categorical features\n",
    "categorical_features = [0, 1, 2, 3, 4, 6, 7, 8]\n",
    "categorical_transformer = Pipeline(steps = [\n",
    "    ('onehot', OneHotEncoder(handle_unknown='ignore'))\n",
    "])\n",
    "\n",
    "\n",
    "# Combining preprocessing steps\n",
    "preprocessor = ColumnTransformer(\n",
    "    transformers = [\n",
    "        ('num', numeric_transformer, numeric_features),\n",
    "        ('cat', categorical_transformer, categorical_features)\n",
    "    ]\n",
    ")\n",
    "\n",
    "# Split the data 70%-30% into training set and test set\n",
    "X_train, X_test, Y_train, Y_test = train_test_split(X, Y, test_size=0.3, random_state=0)\n",
    "\n",
    "print ('Training Set: %d rows\\nTest Set: %d rows' % (X_train.shape[0], X_test.shape[0]))"
   ]
  },
  {
   "cell_type": "markdown",
   "metadata": {},
   "source": [
    "## Linear Regression w/o slope dummy variables"
   ]
  },
  {
   "cell_type": "code",
   "execution_count": 22,
   "metadata": {},
   "outputs": [],
   "source": [
    "# Create preprocessing and training pipeline\n",
    "\n",
    "model = Pipeline(steps = [('preprocessor', preprocessor),\n",
    "                            ('regressor', LinearRegression())])\n",
    "\n",
    "label = ['median_bid']\n",
    "\n",
    "# fit the pipeline to train a linear regression model\n",
    "model.fit(X_train, Y_train[[])\n",
    "\n",
    "predictions = model.predict(X_test)"
   ]
  },
  {
   "cell_type": "code",
   "execution_count": 23,
   "metadata": {},
   "outputs": [
    {
     "data": {
      "image/png": "[encoded data removed]",
      "text/plain": [
       "<Figure size 432x288 with 1 Axes>"
      ]
     },
     "metadata": {
      "needs_background": "light"
     },
     "output_type": "display_data"
    }
   ],
   "source": [
    "ax = plt.axes()\n",
    "plt.scatter(x = Y_test['median_bid'], y = predictions)\n",
    "ax.set_xlabel('True Y')\n",
    "ax.set_ylabel('Predicted Y')\n",
    "z = np.polyfit(x = Y_test['median_bid'], y = predictions, deg = 1)\n",
    "p = np.poly1d(z.flatten())\n",
    "plt.plot(Y_test['median_bid'], p(Y_test['median_bid']), color = 'black')\n",
    "\n",
    "plt.show()"
   ]
  },
  {
   "cell_type": "code",
   "execution_count": 65,
   "metadata": {},
   "outputs": [
    {
     "ename": "ValueError",
     "evalue": "y_true and y_pred have different number of output (1!=3)",
     "output_type": "error",
     "traceback": [
      "\u001b[1;31m---------------------------------------------------------------------------\u001b[0m",
      "\u001b[1;31mValueError\u001b[0m                                Traceback (most recent call last)",
      "\u001b[1;32m~\\AppData\\Local\\Temp/ipykernel_8876/538916232.py\u001b[0m in \u001b[0;36m<module>\u001b[1;34m\u001b[0m\n\u001b[1;32m----> 1\u001b[1;33m \u001b[0mprint\u001b[0m\u001b[1;33m(\u001b[0m\u001b[1;34m\" R2: {:.3f}\\n RMSE = {:.2%}\"\u001b[0m\u001b[1;33m.\u001b[0m\u001b[0mformat\u001b[0m\u001b[1;33m(\u001b[0m\u001b[0mr2_score\u001b[0m\u001b[1;33m(\u001b[0m\u001b[0mY_test\u001b[0m\u001b[1;33m[\u001b[0m\u001b[1;33m[\u001b[0m\u001b[0mlabel\u001b[0m\u001b[1;33m]\u001b[0m\u001b[1;33m]\u001b[0m\u001b[1;33m,\u001b[0m \u001b[0mpredictions\u001b[0m\u001b[1;33m)\u001b[0m\u001b[1;33m,\u001b[0m \u001b[0mmean_squared_error\u001b[0m\u001b[1;33m(\u001b[0m\u001b[0mY_test\u001b[0m\u001b[1;33m[\u001b[0m\u001b[1;33m[\u001b[0m\u001b[0mlabel\u001b[0m\u001b[1;33m]\u001b[0m\u001b[1;33m]\u001b[0m\u001b[1;33m,\u001b[0m \u001b[0mpredictions\u001b[0m\u001b[1;33m)\u001b[0m\u001b[1;33m**\u001b[0m\u001b[1;36m0.5\u001b[0m\u001b[1;33m)\u001b[0m\u001b[1;33m)\u001b[0m\u001b[1;33m\u001b[0m\u001b[1;33m\u001b[0m\u001b[0m\n\u001b[0m",
      "\u001b[1;32m~\\AppData\\Local\\Programs\\Python\\Python310\\lib\\site-packages\\sklearn\\metrics\\_regression.py\u001b[0m in \u001b[0;36mr2_score\u001b[1;34m(y_true, y_pred, sample_weight, multioutput)\u001b[0m\n\u001b[0;32m    787\u001b[0m     \u001b[1;33m-\u001b[0m\u001b[1;36m3.0\u001b[0m\u001b[1;33m\u001b[0m\u001b[1;33m\u001b[0m\u001b[0m\n\u001b[0;32m    788\u001b[0m     \"\"\"\n\u001b[1;32m--> 789\u001b[1;33m     y_type, y_true, y_pred, multioutput = _check_reg_targets(\n\u001b[0m\u001b[0;32m    790\u001b[0m         \u001b[0my_true\u001b[0m\u001b[1;33m,\u001b[0m \u001b[0my_pred\u001b[0m\u001b[1;33m,\u001b[0m \u001b[0mmultioutput\u001b[0m\u001b[1;33m\u001b[0m\u001b[1;33m\u001b[0m\u001b[0m\n\u001b[0;32m    791\u001b[0m     )\n",
      "\u001b[1;32m~\\AppData\\Local\\Programs\\Python\\Python310\\lib\\site-packages\\sklearn\\metrics\\_regression.py\u001b[0m in \u001b[0;36m_check_reg_targets\u001b[1;34m(y_true, y_pred, multioutput, dtype)\u001b[0m\n\u001b[0;32m    103\u001b[0m \u001b[1;33m\u001b[0m\u001b[0m\n\u001b[0;32m    104\u001b[0m     \u001b[1;32mif\u001b[0m \u001b[0my_true\u001b[0m\u001b[1;33m.\u001b[0m\u001b[0mshape\u001b[0m\u001b[1;33m[\u001b[0m\u001b[1;36m1\u001b[0m\u001b[1;33m]\u001b[0m \u001b[1;33m!=\u001b[0m \u001b[0my_pred\u001b[0m\u001b[1;33m.\u001b[0m\u001b[0mshape\u001b[0m\u001b[1;33m[\u001b[0m\u001b[1;36m1\u001b[0m\u001b[1;33m]\u001b[0m\u001b[1;33m:\u001b[0m\u001b[1;33m\u001b[0m\u001b[1;33m\u001b[0m\u001b[0m\n\u001b[1;32m--> 105\u001b[1;33m         raise ValueError(\n\u001b[0m\u001b[0;32m    106\u001b[0m             \"y_true and y_pred have different number of output ({0}!={1})\".format(\n\u001b[0;32m    107\u001b[0m                 \u001b[0my_true\u001b[0m\u001b[1;33m.\u001b[0m\u001b[0mshape\u001b[0m\u001b[1;33m[\u001b[0m\u001b[1;36m1\u001b[0m\u001b[1;33m]\u001b[0m\u001b[1;33m,\u001b[0m \u001b[0my_pred\u001b[0m\u001b[1;33m.\u001b[0m\u001b[0mshape\u001b[0m\u001b[1;33m[\u001b[0m\u001b[1;36m1\u001b[0m\u001b[1;33m]\u001b[0m\u001b[1;33m\u001b[0m\u001b[1;33m\u001b[0m\u001b[0m\n",
      "\u001b[1;31mValueError\u001b[0m: y_true and y_pred have different number of output (1!=3)"
     ]
    }
   ],
   "source": [
    "print(\" R2: {:.3f}\\n RMSE = {:.3f}\".format(r2_score(Y_test[[label]], predictions), mean_squared_error(Y_test[[label]], predictions)**0.5))"
   ]
  },
  {
   "cell_type": "markdown",
   "metadata": {},
   "source": [
    "## Decision Tree w/o Slope Dummies"
   ]
  },
  {
   "cell_type": "code",
   "execution_count": 25,
   "metadata": {},
   "outputs": [],
   "source": [
    "# List of values to try for max_depth:\n",
    "\n",
    "max_depth_range = list(range(1, 20))\n",
    "\n",
    "# List to store the accuracy for each value of max_depth:\n",
    "\n",
    "accuracy = []\n",
    "for depth in max_depth_range:\n",
    "    \n",
    "    clf = Pipeline(steps = [('preprocessor', preprocessor),\n",
    "                             ('regressor', tree.DecisionTreeRegressor(max_depth = depth, \n",
    "                             random_state = 0))])\n",
    "    clf.fit(X_train, Y_train)\n",
    "    score = clf.score(X_train, Y_train)\n",
    "    accuracy.append(score)\n",
    "\n",
    "i = accuracy.index(max(accuracy))\n",
    "\n",
    "clf = Pipeline(steps = [('preprocessor', preprocessor),\n",
    "                             ('regressor', tree.DecisionTreeRegressor(max_depth = i))])\n",
    "clf = clf.fit(X_train, Y_train)\n",
    "\n",
    "predictions = clf.predict(X_test)"
   ]
  },
  {
   "cell_type": "code",
   "execution_count": 26,
   "metadata": {},
   "outputs": [
    {
     "data": {
      "image/png": "[encoded data removed]",
      "text/plain": [
       "<Figure size 432x288 with 1 Axes>"
      ]
     },
     "metadata": {
      "needs_background": "light"
     },
     "output_type": "display_data"
    }
   ],
   "source": [
    "ax = plt.axes()\n",
    "plt.scatter(Y_test, predictions)\n",
    "ax.set_xlabel('True Y')\n",
    "ax.set_ylabel('Predicted Y')\n",
    "\n",
    "plt.show()"
   ]
  },
  {
   "cell_type": "code",
   "execution_count": 27,
   "metadata": {},
   "outputs": [
    {
     "name": "stdout",
     "output_type": "stream",
     "text": [
      " R2: 0.512\n",
      " RMSE = 12.301\n"
     ]
    }
   ],
   "source": [
    "print(\" R2: {:.3f}\\n RMSE = {:.3f}\".format(r2_score(Y_test, predictions), mean_squared_error(Y_test, predictions)**0.5))"
   ]
  },
  {
   "cell_type": "markdown",
   "metadata": {},
   "source": [
    "## Random Forest w/o Slope Dummies"
   ]
  },
  {
   "cell_type": "code",
   "execution_count": 89,
   "metadata": {},
   "outputs": [
    {
     "name": "stderr",
     "output_type": "stream",
     "text": [
      "C:\\Users\\bhara\\AppData\\Local\\Programs\\Python\\Python310\\lib\\site-packages\\sklearn\\pipeline.py:394: DataConversionWarning: A column-vector y was passed when a 1d array was expected. Please change the shape of y to (n_samples,), for example using ravel().\n",
      "  self._final_estimator.fit(Xt, y, **fit_params_last_step)\n"
     ]
    }
   ],
   "source": [
    "forest = Pipeline(steps = [(\n",
    "    'preprocessor', preprocessor), (\n",
    "    'regressor', RandomForestRegressor()\n",
    ")])\n",
    "\n",
    "forest.fit(X_train, Y_train)\n",
    "\n",
    "predictions = forest.predict(X_test)"
   ]
  },
  {
   "cell_type": "code",
   "execution_count": 101,
   "metadata": {},
   "outputs": [
    {
     "data": {
      "image/png": "[encoded data removed]",
      "text/plain": [
       "<Figure size 432x288 with 1 Axes>"
      ]
     },
     "metadata": {
      "needs_background": "light"
     },
     "output_type": "display_data"
    }
   ],
   "source": [
    "plt.scatter(Y_test[label], predictions)\n",
    "plt.xlabel('True Y')\n",
    "plt.ylabel('Predicted Y')\n",
    "plt.show()"
   ]
  },
  {
   "cell_type": "code",
   "execution_count": 97,
   "metadata": {},
   "outputs": [
    {
     "name": "stdout",
     "output_type": "stream",
     "text": [
      " R2: 0.495\n",
      " RMSE = 13.996\n"
     ]
    }
   ],
   "source": [
    "print(\" R2: {:.3f}\\n RMSE = {:.3f}\".format(r2_score(Y_test[[label]], predictions), mean_squared_error(Y_test[[label]], predictions)**0.5))"
   ]
  },
  {
   "cell_type": "markdown",
   "metadata": {},
   "source": [
    "In this segment, I try adding a dummy slope for the categorical variables to see if they improve the 3 models"
   ]
  },
  {
   "cell_type": "markdown",
   "metadata": {},
   "source": [
    "## Linear Regression w Slope Dummies"
   ]
  },
  {
   "cell_type": "code",
   "execution_count": 38,
   "metadata": {},
   "outputs": [
    {
     "name": "stdout",
     "output_type": "stream",
     "text": [
      "Training Set: 92400 rows\n",
      "Test Set: 39600 rows\n"
     ]
    }
   ],
   "source": [
    "X = df.iloc[:,[0, 1, 2, 3, 5, 8, 14, 15, 16]]\n",
    "Y = df.iloc[:, [12, 13, 10]]\n",
    "\n",
    "\n",
    "#preprocessing manually since pipelining doesn't work with column mutation\n",
    "\n",
    "numeric_transformer = StandardScaler()\n",
    "num = numeric_transformer.fit_transform(X.iloc[:, [5]])\n",
    "\n",
    "#preprocessing for categorical features\n",
    "categorical_transformer = OneHotEncoder(handle_unknown='ignore')\n",
    "cat = categorical_transformer.fit_transform(X.iloc[:, [0, 1, 2, 3, 4, 6, 7, 8]]).toarray()\n",
    "\n",
    "# Combining features\n",
    "slope_dummy = np.array(cat * num)\n",
    "X = np.concatenate([cat, num, slope_dummy], 1)\n",
    "\n",
    "# Split the data 70%-30% into training set and test set\n",
    "X_train, X_test, Y_train, Y_test = train_test_split(X, Y, test_size=0.3, random_state=0)\n",
    "\n",
    "print ('Training Set: %d rows\\nTest Set: %d rows' % (X_train.shape[0], X_test.shape[0]))"
   ]
  },
  {
   "cell_type": "code",
   "execution_count": 29,
   "metadata": {},
   "outputs": [],
   "source": [
    "\n",
    "model = LinearRegression()\n",
    "label = 'median_bid'\n",
    "\n",
    "# fit the linear regression model\n",
    "\n",
    "model.fit(X_train, Y_train[label])\n",
    "\n",
    "predictions = model.predict(X_test)"
   ]
  },
  {
   "cell_type": "code",
   "execution_count": 30,
   "metadata": {},
   "outputs": [
    {
     "data": {
      "image/png": "[encoded data removed]",
      "text/plain": [
       "<Figure size 432x288 with 1 Axes>"
      ]
     },
     "metadata": {
      "needs_background": "light"
     },
     "output_type": "display_data"
    }
   ],
   "source": [
    "ax = plt.axes()\n",
    "plt.scatter(x = Y_test[label], y = predictions)\n",
    "ax.set_xlabel('True Y')\n",
    "ax.set_ylabel('Predicted Y')\n",
    "z = np.polyfit(x = Y_test[label], y = predictions, deg = 1)\n",
    "p = np.poly1d(z.flatten())\n",
    "plt.plot(Y_test[label], p(Y_test[label]), color = 'black')\n",
    "\n",
    "plt.show()"
   ]
  },
  {
   "cell_type": "markdown",
   "metadata": {},
   "source": [
    "This model seems to generate extreme outliers among the predicted values. Let's filter those out"
   ]
  },
  {
   "cell_type": "code",
   "execution_count": 31,
   "metadata": {},
   "outputs": [],
   "source": [
    "pred = pd.DataFrame(predictions, columns = ['col'])\n",
    "\n",
    "filter = (pred['col'] >= 0) & (pred['col'] <= 150)\n",
    "true_y = Y_test.reset_index()\n",
    "true_y = true_y[[label]][filter]\n",
    "\n",
    "pred = pred[filter]"
   ]
  },
  {
   "cell_type": "markdown",
   "metadata": {},
   "source": [
    "Let's try plotting the graph again with the filtered values"
   ]
  },
  {
   "cell_type": "code",
   "execution_count": 32,
   "metadata": {},
   "outputs": [
    {
     "data": {
      "image/png": "[encoded data removed]",
      "text/plain": [
       "<Figure size 432x288 with 1 Axes>"
      ]
     },
     "metadata": {
      "needs_background": "light"
     },
     "output_type": "display_data"
    }
   ],
   "source": [
    "ax = plt.axes()\n",
    "plt.scatter(x = true_y[label], y = pred)\n",
    "ax.set_xlabel('True Y')\n",
    "ax.set_ylabel('Predicted Y')\n",
    "z = np.polyfit(x = true_y[label], y = pred, deg = 1)\n",
    "p = np.poly1d(z.flatten())\n",
    "plt.plot(true_y[label], p(true_y[label]), color = 'black')\n",
    "\n",
    "plt.show()"
   ]
  },
  {
   "cell_type": "code",
   "execution_count": 33,
   "metadata": {},
   "outputs": [
    {
     "name": "stdout",
     "output_type": "stream",
     "text": [
      " R2: 0.412\n",
      " RMSE = 15.649\n"
     ]
    }
   ],
   "source": [
    "print(\" R2: {:.3f}\\n RMSE = {:.3f}\".format(r2_score(true_y[[label]], pred), mean_squared_error(true_y[[label]], pred)**0.5))"
   ]
  },
  {
   "cell_type": "markdown",
   "metadata": {},
   "source": [
    "## Decision Tree w the Dummy Slopes"
   ]
  },
  {
   "cell_type": "code",
   "execution_count": 39,
   "metadata": {},
   "outputs": [],
   "source": [
    "# Identifying max_depth is infeasible at least on my local desktop\n",
    "\n",
    "# max_depth_range = list(range(1, 20))\n",
    "\n",
    "# accuracy = []\n",
    "# for depth in max_depth_range:\n",
    "    \n",
    "#     clf = tree.DecisionTreeRegressor(max_depth = depth, random_state = 0)\n",
    "\n",
    "#     clf.fit(X_train, Y_train)\n",
    "#     score = clf.score(X_train, Y_train)\n",
    "#     accuracy.append(score)\n",
    "\n",
    "# i = accuracy.index(max(accuracy))\n",
    "\n",
    "clf = tree.DecisionTreeRegressor(random_state = 0)\n",
    "\n",
    "clf = clf.fit(X_train, Y_train)\n",
    "\n",
    "predictions = clf.predict(X_test)"
   ]
  },
  {
   "cell_type": "code",
   "execution_count": 40,
   "metadata": {},
   "outputs": [
    {
     "data": {
      "image/png": "[encoded data removed]",
      "text/plain": [
       "<Figure size 432x288 with 1 Axes>"
      ]
     },
     "metadata": {
      "needs_background": "light"
     },
     "output_type": "display_data"
    }
   ],
   "source": [
    "ax = plt.axes()\n",
    "plt.scatter(Y_test, predictions)\n",
    "ax.set_xlabel('True Y')\n",
    "ax.set_ylabel('Predicted Y')\n",
    "\n",
    "plt.show()"
   ]
  },
  {
   "cell_type": "code",
   "execution_count": 41,
   "metadata": {},
   "outputs": [
    {
     "name": "stdout",
     "output_type": "stream",
     "text": [
      " R2: 0.382\n",
      " RMSE = 13.949\n"
     ]
    }
   ],
   "source": [
    "print(\" R2: {:.3f}\\n RMSE = {:.3f}\".format(r2_score(Y_test, predictions), mean_squared_error(Y_test, predictions)**0.5))"
   ]
  }
 ],
 "metadata": {
  "interpreter": {
   "hash": "ce9dd59b17171a7dc5c62bef797b1c0ccf233bc63b2e43d4133ac3f31084ae3b"
  },
  "kernelspec": {
   "display_name": "Python 3.8.5 32-bit",
   "name": "python3"
  },
  "language_info": {
   "codemirror_mode": {
    "name": "ipython",
    "version": 3
   },
   "file_extension": ".py",
   "mimetype": "text/x-python",
   "name": "python",
   "nbconvert_exporter": "python",
   "pygments_lexer": "ipython3",
   "version": "3.10.1"
  },
  "orig_nbformat": 4
 },
 "nbformat": 4,
 "nbformat_minor": 2
}
