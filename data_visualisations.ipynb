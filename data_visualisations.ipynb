{
 "cells": [
  {
   "cell_type": "markdown",
   "id": "2613e207",
   "metadata": {},
   "source": [
    "### Data Visualisations Utility\n",
    "This notebook is for personal use, and its accurate up to the academic year 2021.\n"
   ]
  },
  {
   "cell_type": "markdown",
   "id": "5f09cdcb",
   "metadata": {},
   "source": [
    "#### Load the dataset"
   ]
  },
  {
   "cell_type": "code",
   "execution_count": 1,
   "id": "3a77dbc8",
   "metadata": {},
   "outputs": [],
   "source": [
    "def load_dataset():\n",
    "    import pandas as pd\n",
    "    df = pd.read_excel(\"dataset/training_data.xlsx\", sheet_name = 'training_data')\n",
    "    return df\n",
    "dataset = load_dataset()"
   ]
  },
  {
   "cell_type": "code",
   "execution_count": 2,
   "id": "4b25c69e",
   "metadata": {},
   "outputs": [
    {
     "name": "stdout",
     "output_type": "stream",
     "text": [
      "Dataset Size:  242894\n",
      "Column Names:  Index(['Unnamed: 0', 'term', 'session', 'bidding_window', 'course_code',\n",
      "       'description', 'section', 'vacancy', 'opening_vacancy',\n",
      "       'before_process_vacancy', 'dice', 'after_process_vacancy',\n",
      "       'enrolled_students', 'median_bid', 'min_bid', 'instructor', 'school',\n",
      "       'year', 'num_sections'],\n",
      "      dtype='object')\n"
     ]
    },
    {
     "data": {
      "text/html": [
       "<div>\n",
       "<style scoped>\n",
       "    .dataframe tbody tr th:only-of-type {\n",
       "        vertical-align: middle;\n",
       "    }\n",
       "\n",
       "    .dataframe tbody tr th {\n",
       "        vertical-align: top;\n",
       "    }\n",
       "\n",
       "    .dataframe thead th {\n",
       "        text-align: right;\n",
       "    }\n",
       "</style>\n",
       "<table border=\"1\" class=\"dataframe\">\n",
       "  <thead>\n",
       "    <tr style=\"text-align: right;\">\n",
       "      <th></th>\n",
       "      <th>Unnamed: 0</th>\n",
       "      <th>term</th>\n",
       "      <th>session</th>\n",
       "      <th>bidding_window</th>\n",
       "      <th>course_code</th>\n",
       "      <th>description</th>\n",
       "      <th>section</th>\n",
       "      <th>vacancy</th>\n",
       "      <th>opening_vacancy</th>\n",
       "      <th>before_process_vacancy</th>\n",
       "      <th>dice</th>\n",
       "      <th>after_process_vacancy</th>\n",
       "      <th>enrolled_students</th>\n",
       "      <th>median_bid</th>\n",
       "      <th>min_bid</th>\n",
       "      <th>instructor</th>\n",
       "      <th>school</th>\n",
       "      <th>year</th>\n",
       "      <th>num_sections</th>\n",
       "    </tr>\n",
       "  </thead>\n",
       "  <tbody>\n",
       "    <tr>\n",
       "      <th>0</th>\n",
       "      <td>0</td>\n",
       "      <td>Term 1</td>\n",
       "      <td>Regular Academic Session</td>\n",
       "      <td>Round 2A Window 3</td>\n",
       "      <td>ACCT001</td>\n",
       "      <td>Accounting Study Mission(Bangkok &amp; Chiang Mai)</td>\n",
       "      <td>G1</td>\n",
       "      <td>32</td>\n",
       "      <td>32</td>\n",
       "      <td>0</td>\n",
       "      <td>0</td>\n",
       "      <td>0</td>\n",
       "      <td>32</td>\n",
       "      <td>0.0</td>\n",
       "      <td>0.0</td>\n",
       "      <td>LOW AIK MENG</td>\n",
       "      <td>SOA</td>\n",
       "      <td>2015-16</td>\n",
       "      <td>19</td>\n",
       "    </tr>\n",
       "    <tr>\n",
       "      <th>1</th>\n",
       "      <td>1</td>\n",
       "      <td>Term 1</td>\n",
       "      <td>Regular Academic Session</td>\n",
       "      <td>Round 2A Window 3</td>\n",
       "      <td>ACCT002</td>\n",
       "      <td>Accounting for Entrepreneurs</td>\n",
       "      <td>G1</td>\n",
       "      <td>45</td>\n",
       "      <td>45</td>\n",
       "      <td>3</td>\n",
       "      <td>0</td>\n",
       "      <td>2</td>\n",
       "      <td>43</td>\n",
       "      <td>10.0</td>\n",
       "      <td>10.0</td>\n",
       "      <td>YUANTO KUSNADI</td>\n",
       "      <td>SOA</td>\n",
       "      <td>2015-16</td>\n",
       "      <td>38</td>\n",
       "    </tr>\n",
       "    <tr>\n",
       "      <th>2</th>\n",
       "      <td>2</td>\n",
       "      <td>Term 1</td>\n",
       "      <td>Regular Academic Session</td>\n",
       "      <td>Round 2A Window 3</td>\n",
       "      <td>ACCT002</td>\n",
       "      <td>Accounting for Entrepreneurs</td>\n",
       "      <td>G2</td>\n",
       "      <td>45</td>\n",
       "      <td>45</td>\n",
       "      <td>6</td>\n",
       "      <td>0</td>\n",
       "      <td>6</td>\n",
       "      <td>39</td>\n",
       "      <td>0.0</td>\n",
       "      <td>0.0</td>\n",
       "      <td>YUANTO KUSNADI</td>\n",
       "      <td>SOA</td>\n",
       "      <td>2015-16</td>\n",
       "      <td>38</td>\n",
       "    </tr>\n",
       "    <tr>\n",
       "      <th>3</th>\n",
       "      <td>3</td>\n",
       "      <td>Term 1</td>\n",
       "      <td>Regular Academic Session</td>\n",
       "      <td>Round 2A Window 3</td>\n",
       "      <td>ACCT003</td>\n",
       "      <td>Capital Markets in China</td>\n",
       "      <td>G1</td>\n",
       "      <td>45</td>\n",
       "      <td>45</td>\n",
       "      <td>4</td>\n",
       "      <td>0</td>\n",
       "      <td>4</td>\n",
       "      <td>41</td>\n",
       "      <td>0.0</td>\n",
       "      <td>0.0</td>\n",
       "      <td>WANG JIWEI</td>\n",
       "      <td>SOA</td>\n",
       "      <td>2015-16</td>\n",
       "      <td>38</td>\n",
       "    </tr>\n",
       "    <tr>\n",
       "      <th>4</th>\n",
       "      <td>4</td>\n",
       "      <td>Term 1</td>\n",
       "      <td>Regular Academic Session</td>\n",
       "      <td>Round 2A Window 3</td>\n",
       "      <td>ACCT003</td>\n",
       "      <td>Capital Markets in China</td>\n",
       "      <td>G2</td>\n",
       "      <td>45</td>\n",
       "      <td>45</td>\n",
       "      <td>13</td>\n",
       "      <td>0</td>\n",
       "      <td>13</td>\n",
       "      <td>32</td>\n",
       "      <td>0.0</td>\n",
       "      <td>0.0</td>\n",
       "      <td>WANG JIWEI</td>\n",
       "      <td>SOA</td>\n",
       "      <td>2015-16</td>\n",
       "      <td>38</td>\n",
       "    </tr>\n",
       "  </tbody>\n",
       "</table>\n",
       "</div>"
      ],
      "text/plain": [
       "   Unnamed: 0    term                   session     bidding_window  \\\n",
       "0           0  Term 1  Regular Academic Session  Round 2A Window 3   \n",
       "1           1  Term 1  Regular Academic Session  Round 2A Window 3   \n",
       "2           2  Term 1  Regular Academic Session  Round 2A Window 3   \n",
       "3           3  Term 1  Regular Academic Session  Round 2A Window 3   \n",
       "4           4  Term 1  Regular Academic Session  Round 2A Window 3   \n",
       "\n",
       "  course_code                                     description section  \\\n",
       "0     ACCT001  Accounting Study Mission(Bangkok & Chiang Mai)      G1   \n",
       "1     ACCT002                    Accounting for Entrepreneurs      G1   \n",
       "2     ACCT002                    Accounting for Entrepreneurs      G2   \n",
       "3     ACCT003                        Capital Markets in China      G1   \n",
       "4     ACCT003                        Capital Markets in China      G2   \n",
       "\n",
       "   vacancy  opening_vacancy  before_process_vacancy  dice  \\\n",
       "0       32               32                       0     0   \n",
       "1       45               45                       3     0   \n",
       "2       45               45                       6     0   \n",
       "3       45               45                       4     0   \n",
       "4       45               45                      13     0   \n",
       "\n",
       "   after_process_vacancy  enrolled_students  median_bid  min_bid  \\\n",
       "0                      0                 32         0.0      0.0   \n",
       "1                      2                 43        10.0     10.0   \n",
       "2                      6                 39         0.0      0.0   \n",
       "3                      4                 41         0.0      0.0   \n",
       "4                     13                 32         0.0      0.0   \n",
       "\n",
       "       instructor school     year  num_sections  \n",
       "0    LOW AIK MENG    SOA  2015-16            19  \n",
       "1  YUANTO KUSNADI    SOA  2015-16            38  \n",
       "2  YUANTO KUSNADI    SOA  2015-16            38  \n",
       "3      WANG JIWEI    SOA  2015-16            38  \n",
       "4      WANG JIWEI    SOA  2015-16            38  "
      ]
     },
     "execution_count": 2,
     "metadata": {},
     "output_type": "execute_result"
    }
   ],
   "source": [
    "print(\"Dataset Size: \", len(dataset))\n",
    "print(\"Column Names: \", dataset.columns)\n",
    "dataset.head()"
   ]
  },
  {
   "cell_type": "code",
   "execution_count": 3,
   "id": "6e33031f",
   "metadata": {},
   "outputs": [
    {
     "data": {
      "text/plain": [
       "Index(['Unnamed: 0', 'term', 'session', 'bidding_window', 'course_code',\n",
       "       'description', 'section', 'vacancy', 'opening_vacancy',\n",
       "       'before_process_vacancy', 'dice', 'after_process_vacancy',\n",
       "       'enrolled_students', 'median_bid', 'min_bid', 'instructor', 'school',\n",
       "       'year', 'num_sections'],\n",
       "      dtype='object')"
      ]
     },
     "execution_count": 3,
     "metadata": {},
     "output_type": "execute_result"
    }
   ],
   "source": [
    "dataset.columns"
   ]
  },
  {
   "cell_type": "markdown",
   "id": "65aed5e7",
   "metadata": {},
   "source": [
    "### Utility"
   ]
  },
  {
   "cell_type": "code",
   "execution_count": 4,
   "id": "63c0160e",
   "metadata": {},
   "outputs": [],
   "source": [
    "def filter_dataset(course_code = None, course_name = None, bidding_window = None, \n",
    "                   section_no = None, term = None, instructor = None):\n",
    "    df = dataset.copy(deep = True) ## do a deep copy of dataframe\n",
    "    for (index, item) in zip(['course_code','description', 'bidding_window', 'section','term', 'instructor'],\n",
    "                             [course_code, course_name, bidding_window, section_no, term, instructor]):\n",
    "        df = df if item == None else df[df[index].isin(item)] if type(item) == type(list()) else df[df[index] == item]\n",
    "    \n",
    "    df.head()\n",
    "    return df\n"
   ]
  },
  {
   "cell_type": "code",
   "execution_count": 5,
   "id": "5a1ee393",
   "metadata": {},
   "outputs": [
    {
     "data": {
      "text/html": [
       "<div>\n",
       "<style scoped>\n",
       "    .dataframe tbody tr th:only-of-type {\n",
       "        vertical-align: middle;\n",
       "    }\n",
       "\n",
       "    .dataframe tbody tr th {\n",
       "        vertical-align: top;\n",
       "    }\n",
       "\n",
       "    .dataframe thead th {\n",
       "        text-align: right;\n",
       "    }\n",
       "</style>\n",
       "<table border=\"1\" class=\"dataframe\">\n",
       "  <thead>\n",
       "    <tr style=\"text-align: right;\">\n",
       "      <th></th>\n",
       "      <th>Unnamed: 0</th>\n",
       "      <th>term</th>\n",
       "      <th>session</th>\n",
       "      <th>bidding_window</th>\n",
       "      <th>course_code</th>\n",
       "      <th>description</th>\n",
       "      <th>section</th>\n",
       "      <th>vacancy</th>\n",
       "      <th>opening_vacancy</th>\n",
       "      <th>before_process_vacancy</th>\n",
       "      <th>dice</th>\n",
       "      <th>after_process_vacancy</th>\n",
       "      <th>enrolled_students</th>\n",
       "      <th>median_bid</th>\n",
       "      <th>min_bid</th>\n",
       "      <th>instructor</th>\n",
       "      <th>school</th>\n",
       "      <th>year</th>\n",
       "      <th>num_sections</th>\n",
       "    </tr>\n",
       "  </thead>\n",
       "  <tbody>\n",
       "    <tr>\n",
       "      <th>68274</th>\n",
       "      <td>68274</td>\n",
       "      <td>Term 2</td>\n",
       "      <td>Regular Academic Session</td>\n",
       "      <td>Round 1 Window 1</td>\n",
       "      <td>IDIS002</td>\n",
       "      <td>Critical Thinking in the Real World</td>\n",
       "      <td>G2</td>\n",
       "      <td>45</td>\n",
       "      <td>45</td>\n",
       "      <td>45</td>\n",
       "      <td>0</td>\n",
       "      <td>0</td>\n",
       "      <td>45</td>\n",
       "      <td>30.00</td>\n",
       "      <td>27.92</td>\n",
       "      <td>JOHN WILLIAMS</td>\n",
       "      <td>SOSS</td>\n",
       "      <td>2016-17</td>\n",
       "      <td>63</td>\n",
       "    </tr>\n",
       "    <tr>\n",
       "      <th>68275</th>\n",
       "      <td>68275</td>\n",
       "      <td>Term 2</td>\n",
       "      <td>Regular Academic Session</td>\n",
       "      <td>Round 1 Window 1</td>\n",
       "      <td>IDIS002</td>\n",
       "      <td>Critical Thinking in the Real World</td>\n",
       "      <td>G3</td>\n",
       "      <td>45</td>\n",
       "      <td>45</td>\n",
       "      <td>45</td>\n",
       "      <td>0</td>\n",
       "      <td>0</td>\n",
       "      <td>45</td>\n",
       "      <td>30.80</td>\n",
       "      <td>28.23</td>\n",
       "      <td>MARK NOWACKI</td>\n",
       "      <td>SOSS</td>\n",
       "      <td>2016-17</td>\n",
       "      <td>63</td>\n",
       "    </tr>\n",
       "    <tr>\n",
       "      <th>82107</th>\n",
       "      <td>82107</td>\n",
       "      <td>Term 1</td>\n",
       "      <td>Regular Academic Session</td>\n",
       "      <td>Round 1 Window 1</td>\n",
       "      <td>IDIS002</td>\n",
       "      <td>Critical Thinking in the Real World</td>\n",
       "      <td>G2</td>\n",
       "      <td>45</td>\n",
       "      <td>23</td>\n",
       "      <td>23</td>\n",
       "      <td>0</td>\n",
       "      <td>0</td>\n",
       "      <td>23</td>\n",
       "      <td>34.74</td>\n",
       "      <td>33.10</td>\n",
       "      <td>STEVEN BURIK</td>\n",
       "      <td>SOSS</td>\n",
       "      <td>2017-18</td>\n",
       "      <td>57</td>\n",
       "    </tr>\n",
       "    <tr>\n",
       "      <th>82108</th>\n",
       "      <td>82108</td>\n",
       "      <td>Term 1</td>\n",
       "      <td>Regular Academic Session</td>\n",
       "      <td>Round 1 Window 1</td>\n",
       "      <td>IDIS002</td>\n",
       "      <td>Critical Thinking in the Real World</td>\n",
       "      <td>G3</td>\n",
       "      <td>45</td>\n",
       "      <td>23</td>\n",
       "      <td>23</td>\n",
       "      <td>0</td>\n",
       "      <td>0</td>\n",
       "      <td>23</td>\n",
       "      <td>35.10</td>\n",
       "      <td>34.50</td>\n",
       "      <td>JOHN WILLIAMS</td>\n",
       "      <td>SOSS</td>\n",
       "      <td>2017-18</td>\n",
       "      <td>57</td>\n",
       "    </tr>\n",
       "    <tr>\n",
       "      <th>102107</th>\n",
       "      <td>102107</td>\n",
       "      <td>Term 2</td>\n",
       "      <td>Regular Academic Session</td>\n",
       "      <td>Round 1 Window 1</td>\n",
       "      <td>IDIS002</td>\n",
       "      <td>Critical Thinking in the Real World</td>\n",
       "      <td>G2</td>\n",
       "      <td>45</td>\n",
       "      <td>45</td>\n",
       "      <td>45</td>\n",
       "      <td>0</td>\n",
       "      <td>0</td>\n",
       "      <td>45</td>\n",
       "      <td>42.50</td>\n",
       "      <td>40.12</td>\n",
       "      <td>STEVEN BURIK</td>\n",
       "      <td>SOSS</td>\n",
       "      <td>2017-18</td>\n",
       "      <td>72</td>\n",
       "    </tr>\n",
       "    <tr>\n",
       "      <th>102108</th>\n",
       "      <td>102108</td>\n",
       "      <td>Term 2</td>\n",
       "      <td>Regular Academic Session</td>\n",
       "      <td>Round 1 Window 1</td>\n",
       "      <td>IDIS002</td>\n",
       "      <td>Critical Thinking in the Real World</td>\n",
       "      <td>G3</td>\n",
       "      <td>45</td>\n",
       "      <td>45</td>\n",
       "      <td>45</td>\n",
       "      <td>0</td>\n",
       "      <td>0</td>\n",
       "      <td>45</td>\n",
       "      <td>42.34</td>\n",
       "      <td>40.98</td>\n",
       "      <td>STEVEN BURIK</td>\n",
       "      <td>SOSS</td>\n",
       "      <td>2017-18</td>\n",
       "      <td>72</td>\n",
       "    </tr>\n",
       "    <tr>\n",
       "      <th>116398</th>\n",
       "      <td>116398</td>\n",
       "      <td>Term 1</td>\n",
       "      <td>Regular Academic Session</td>\n",
       "      <td>Round 1 Window 1</td>\n",
       "      <td>IDIS002</td>\n",
       "      <td>Critical Thinking in the Real World</td>\n",
       "      <td>G2</td>\n",
       "      <td>45</td>\n",
       "      <td>21</td>\n",
       "      <td>21</td>\n",
       "      <td>0</td>\n",
       "      <td>0</td>\n",
       "      <td>21</td>\n",
       "      <td>45.63</td>\n",
       "      <td>44.13</td>\n",
       "      <td>STEVEN BURIK</td>\n",
       "      <td>SOSS</td>\n",
       "      <td>2018-19</td>\n",
       "      <td>133</td>\n",
       "    </tr>\n",
       "    <tr>\n",
       "      <th>116399</th>\n",
       "      <td>116399</td>\n",
       "      <td>Term 1</td>\n",
       "      <td>Regular Academic Session</td>\n",
       "      <td>Round 1 Window 1</td>\n",
       "      <td>IDIS002</td>\n",
       "      <td>Critical Thinking in the Real World</td>\n",
       "      <td>G3</td>\n",
       "      <td>45</td>\n",
       "      <td>21</td>\n",
       "      <td>20</td>\n",
       "      <td>0</td>\n",
       "      <td>0</td>\n",
       "      <td>21</td>\n",
       "      <td>45.49</td>\n",
       "      <td>44.70</td>\n",
       "      <td>STEVEN BURIK</td>\n",
       "      <td>SOSS</td>\n",
       "      <td>2018-19</td>\n",
       "      <td>133</td>\n",
       "    </tr>\n",
       "    <tr>\n",
       "      <th>138222</th>\n",
       "      <td>138222</td>\n",
       "      <td>Term 2</td>\n",
       "      <td>Regular Academic Session</td>\n",
       "      <td>Round 1 Window 1</td>\n",
       "      <td>IDIS002</td>\n",
       "      <td>Critical Thinking in the Real World</td>\n",
       "      <td>G2</td>\n",
       "      <td>45</td>\n",
       "      <td>45</td>\n",
       "      <td>45</td>\n",
       "      <td>0</td>\n",
       "      <td>0</td>\n",
       "      <td>45</td>\n",
       "      <td>50.00</td>\n",
       "      <td>48.00</td>\n",
       "      <td>STEVEN BURIK</td>\n",
       "      <td>SOSS</td>\n",
       "      <td>2018-19</td>\n",
       "      <td>95</td>\n",
       "    </tr>\n",
       "    <tr>\n",
       "      <th>138223</th>\n",
       "      <td>138223</td>\n",
       "      <td>Term 2</td>\n",
       "      <td>Regular Academic Session</td>\n",
       "      <td>Round 1 Window 1</td>\n",
       "      <td>IDIS002</td>\n",
       "      <td>Critical Thinking in the Real World</td>\n",
       "      <td>G3</td>\n",
       "      <td>45</td>\n",
       "      <td>45</td>\n",
       "      <td>45</td>\n",
       "      <td>0</td>\n",
       "      <td>0</td>\n",
       "      <td>45</td>\n",
       "      <td>49.89</td>\n",
       "      <td>48.87</td>\n",
       "      <td>STEVEN BURIK</td>\n",
       "      <td>SOSS</td>\n",
       "      <td>2018-19</td>\n",
       "      <td>95</td>\n",
       "    </tr>\n",
       "    <tr>\n",
       "      <th>153202</th>\n",
       "      <td>153202</td>\n",
       "      <td>Term 1</td>\n",
       "      <td>Regular Academic Session</td>\n",
       "      <td>Round 1 Window 1</td>\n",
       "      <td>COR1701</td>\n",
       "      <td>Critical Thinking in the Real World</td>\n",
       "      <td>G2</td>\n",
       "      <td>45</td>\n",
       "      <td>38</td>\n",
       "      <td>38</td>\n",
       "      <td>0</td>\n",
       "      <td>0</td>\n",
       "      <td>38</td>\n",
       "      <td>50.93</td>\n",
       "      <td>48.00</td>\n",
       "      <td>MATTHEW HAMMERTON</td>\n",
       "      <td>SOSS</td>\n",
       "      <td>2019-20</td>\n",
       "      <td>146</td>\n",
       "    </tr>\n",
       "    <tr>\n",
       "      <th>153203</th>\n",
       "      <td>153203</td>\n",
       "      <td>Term 1</td>\n",
       "      <td>Regular Academic Session</td>\n",
       "      <td>Round 1 Window 1</td>\n",
       "      <td>COR1701</td>\n",
       "      <td>Critical Thinking in the Real World</td>\n",
       "      <td>G3</td>\n",
       "      <td>45</td>\n",
       "      <td>38</td>\n",
       "      <td>38</td>\n",
       "      <td>0</td>\n",
       "      <td>0</td>\n",
       "      <td>38</td>\n",
       "      <td>51.68</td>\n",
       "      <td>50.00</td>\n",
       "      <td>STEVEN BURIK</td>\n",
       "      <td>SOSS</td>\n",
       "      <td>2019-20</td>\n",
       "      <td>146</td>\n",
       "    </tr>\n",
       "    <tr>\n",
       "      <th>172002</th>\n",
       "      <td>172002</td>\n",
       "      <td>Term 2</td>\n",
       "      <td>Regular Academic Session</td>\n",
       "      <td>Round 1 Window 1</td>\n",
       "      <td>COR1701</td>\n",
       "      <td>Critical Thinking in the Real World</td>\n",
       "      <td>G2</td>\n",
       "      <td>45</td>\n",
       "      <td>45</td>\n",
       "      <td>45</td>\n",
       "      <td>0</td>\n",
       "      <td>0</td>\n",
       "      <td>45</td>\n",
       "      <td>55.00</td>\n",
       "      <td>52.50</td>\n",
       "      <td>STEVEN BURIK</td>\n",
       "      <td>SOSS</td>\n",
       "      <td>2019-20</td>\n",
       "      <td>96</td>\n",
       "    </tr>\n",
       "    <tr>\n",
       "      <th>172003</th>\n",
       "      <td>172003</td>\n",
       "      <td>Term 2</td>\n",
       "      <td>Regular Academic Session</td>\n",
       "      <td>Round 1 Window 1</td>\n",
       "      <td>COR1701</td>\n",
       "      <td>Critical Thinking in the Real World</td>\n",
       "      <td>G3</td>\n",
       "      <td>45</td>\n",
       "      <td>45</td>\n",
       "      <td>45</td>\n",
       "      <td>0</td>\n",
       "      <td>0</td>\n",
       "      <td>45</td>\n",
       "      <td>59.04</td>\n",
       "      <td>54.89</td>\n",
       "      <td>STEVEN BURIK</td>\n",
       "      <td>SOSS</td>\n",
       "      <td>2019-20</td>\n",
       "      <td>96</td>\n",
       "    </tr>\n",
       "    <tr>\n",
       "      <th>188680</th>\n",
       "      <td>188680</td>\n",
       "      <td>Term 1</td>\n",
       "      <td>Regular Academic Session</td>\n",
       "      <td>Round 1 Window 1</td>\n",
       "      <td>COR1701</td>\n",
       "      <td>Critical Thinking in the Real World</td>\n",
       "      <td>G2</td>\n",
       "      <td>45</td>\n",
       "      <td>38</td>\n",
       "      <td>38</td>\n",
       "      <td>0</td>\n",
       "      <td>0</td>\n",
       "      <td>38</td>\n",
       "      <td>57.01</td>\n",
       "      <td>55.00</td>\n",
       "      <td>STEVEN BURIK</td>\n",
       "      <td>SOSS</td>\n",
       "      <td>2020-21</td>\n",
       "      <td>146</td>\n",
       "    </tr>\n",
       "    <tr>\n",
       "      <th>188681</th>\n",
       "      <td>188681</td>\n",
       "      <td>Term 1</td>\n",
       "      <td>Regular Academic Session</td>\n",
       "      <td>Round 1 Window 1</td>\n",
       "      <td>COR1701</td>\n",
       "      <td>Critical Thinking in the Real World</td>\n",
       "      <td>G3</td>\n",
       "      <td>45</td>\n",
       "      <td>38</td>\n",
       "      <td>38</td>\n",
       "      <td>0</td>\n",
       "      <td>0</td>\n",
       "      <td>38</td>\n",
       "      <td>55.56</td>\n",
       "      <td>53.00</td>\n",
       "      <td>STEVEN BURIK</td>\n",
       "      <td>SOSS</td>\n",
       "      <td>2020-21</td>\n",
       "      <td>146</td>\n",
       "    </tr>\n",
       "    <tr>\n",
       "      <th>212643</th>\n",
       "      <td>212643</td>\n",
       "      <td>Term 2</td>\n",
       "      <td>Regular Academic Session</td>\n",
       "      <td>Round 1 Window 1</td>\n",
       "      <td>COR1701</td>\n",
       "      <td>Critical Thinking in the Real World</td>\n",
       "      <td>G2</td>\n",
       "      <td>45</td>\n",
       "      <td>45</td>\n",
       "      <td>45</td>\n",
       "      <td>0</td>\n",
       "      <td>0</td>\n",
       "      <td>45</td>\n",
       "      <td>57.00</td>\n",
       "      <td>55.50</td>\n",
       "      <td>STEVEN BURIK</td>\n",
       "      <td>SOSS</td>\n",
       "      <td>2020-21</td>\n",
       "      <td>180</td>\n",
       "    </tr>\n",
       "    <tr>\n",
       "      <th>212644</th>\n",
       "      <td>212644</td>\n",
       "      <td>Term 2</td>\n",
       "      <td>Regular Academic Session</td>\n",
       "      <td>Round 1 Window 1</td>\n",
       "      <td>COR1701</td>\n",
       "      <td>Critical Thinking in the Real World</td>\n",
       "      <td>G3</td>\n",
       "      <td>46</td>\n",
       "      <td>45</td>\n",
       "      <td>45</td>\n",
       "      <td>0</td>\n",
       "      <td>0</td>\n",
       "      <td>45</td>\n",
       "      <td>50.89</td>\n",
       "      <td>42.13</td>\n",
       "      <td>SOVAN PATRA</td>\n",
       "      <td>SOSS</td>\n",
       "      <td>2020-21</td>\n",
       "      <td>180</td>\n",
       "    </tr>\n",
       "    <tr>\n",
       "      <th>228662</th>\n",
       "      <td>228662</td>\n",
       "      <td>Term 1</td>\n",
       "      <td>Regular Academic Session</td>\n",
       "      <td>Round 1 Window 1</td>\n",
       "      <td>COR1701</td>\n",
       "      <td>Critical Thinking in the Real World</td>\n",
       "      <td>G2</td>\n",
       "      <td>45</td>\n",
       "      <td>38</td>\n",
       "      <td>38</td>\n",
       "      <td>0</td>\n",
       "      <td>2</td>\n",
       "      <td>36</td>\n",
       "      <td>57.02</td>\n",
       "      <td>10.00</td>\n",
       "      <td>STEVEN BURIK</td>\n",
       "      <td>SOSS</td>\n",
       "      <td>2021-22</td>\n",
       "      <td>171</td>\n",
       "    </tr>\n",
       "    <tr>\n",
       "      <th>228663</th>\n",
       "      <td>228663</td>\n",
       "      <td>Term 1</td>\n",
       "      <td>Regular Academic Session</td>\n",
       "      <td>Round 1 Window 1</td>\n",
       "      <td>COR1701</td>\n",
       "      <td>Critical Thinking in the Real World</td>\n",
       "      <td>G3</td>\n",
       "      <td>45</td>\n",
       "      <td>38</td>\n",
       "      <td>38</td>\n",
       "      <td>0</td>\n",
       "      <td>0</td>\n",
       "      <td>38</td>\n",
       "      <td>56.28</td>\n",
       "      <td>40.72</td>\n",
       "      <td>STEVEN BURIK</td>\n",
       "      <td>SOSS</td>\n",
       "      <td>2021-22</td>\n",
       "      <td>171</td>\n",
       "    </tr>\n",
       "    <tr>\n",
       "      <th>242183</th>\n",
       "      <td>242183</td>\n",
       "      <td>Term 2</td>\n",
       "      <td>Regular Academic Session</td>\n",
       "      <td>Round 1 Window 1</td>\n",
       "      <td>COR1701</td>\n",
       "      <td>Critical Thinking in the Real World</td>\n",
       "      <td>G2</td>\n",
       "      <td>45</td>\n",
       "      <td>45</td>\n",
       "      <td>45</td>\n",
       "      <td>0</td>\n",
       "      <td>0</td>\n",
       "      <td>45</td>\n",
       "      <td>52.22</td>\n",
       "      <td>49.00</td>\n",
       "      <td>MATTHEW HAMMERTON</td>\n",
       "      <td>SOSS</td>\n",
       "      <td>2021-22</td>\n",
       "      <td>54</td>\n",
       "    </tr>\n",
       "    <tr>\n",
       "      <th>242184</th>\n",
       "      <td>242184</td>\n",
       "      <td>Term 2</td>\n",
       "      <td>Regular Academic Session</td>\n",
       "      <td>Round 1 Window 1</td>\n",
       "      <td>COR1701</td>\n",
       "      <td>Critical Thinking in the Real World</td>\n",
       "      <td>G3</td>\n",
       "      <td>45</td>\n",
       "      <td>45</td>\n",
       "      <td>44</td>\n",
       "      <td>0</td>\n",
       "      <td>0</td>\n",
       "      <td>45</td>\n",
       "      <td>53.00</td>\n",
       "      <td>50.07</td>\n",
       "      <td>MATTHEW HAMMERTON</td>\n",
       "      <td>SOSS</td>\n",
       "      <td>2021-22</td>\n",
       "      <td>54</td>\n",
       "    </tr>\n",
       "  </tbody>\n",
       "</table>\n",
       "</div>"
      ],
      "text/plain": [
       "        Unnamed: 0    term                   session    bidding_window  \\\n",
       "68274        68274  Term 2  Regular Academic Session  Round 1 Window 1   \n",
       "68275        68275  Term 2  Regular Academic Session  Round 1 Window 1   \n",
       "82107        82107  Term 1  Regular Academic Session  Round 1 Window 1   \n",
       "82108        82108  Term 1  Regular Academic Session  Round 1 Window 1   \n",
       "102107      102107  Term 2  Regular Academic Session  Round 1 Window 1   \n",
       "102108      102108  Term 2  Regular Academic Session  Round 1 Window 1   \n",
       "116398      116398  Term 1  Regular Academic Session  Round 1 Window 1   \n",
       "116399      116399  Term 1  Regular Academic Session  Round 1 Window 1   \n",
       "138222      138222  Term 2  Regular Academic Session  Round 1 Window 1   \n",
       "138223      138223  Term 2  Regular Academic Session  Round 1 Window 1   \n",
       "153202      153202  Term 1  Regular Academic Session  Round 1 Window 1   \n",
       "153203      153203  Term 1  Regular Academic Session  Round 1 Window 1   \n",
       "172002      172002  Term 2  Regular Academic Session  Round 1 Window 1   \n",
       "172003      172003  Term 2  Regular Academic Session  Round 1 Window 1   \n",
       "188680      188680  Term 1  Regular Academic Session  Round 1 Window 1   \n",
       "188681      188681  Term 1  Regular Academic Session  Round 1 Window 1   \n",
       "212643      212643  Term 2  Regular Academic Session  Round 1 Window 1   \n",
       "212644      212644  Term 2  Regular Academic Session  Round 1 Window 1   \n",
       "228662      228662  Term 1  Regular Academic Session  Round 1 Window 1   \n",
       "228663      228663  Term 1  Regular Academic Session  Round 1 Window 1   \n",
       "242183      242183  Term 2  Regular Academic Session  Round 1 Window 1   \n",
       "242184      242184  Term 2  Regular Academic Session  Round 1 Window 1   \n",
       "\n",
       "       course_code                          description section  vacancy  \\\n",
       "68274      IDIS002  Critical Thinking in the Real World      G2       45   \n",
       "68275      IDIS002  Critical Thinking in the Real World      G3       45   \n",
       "82107      IDIS002  Critical Thinking in the Real World      G2       45   \n",
       "82108      IDIS002  Critical Thinking in the Real World      G3       45   \n",
       "102107     IDIS002  Critical Thinking in the Real World      G2       45   \n",
       "102108     IDIS002  Critical Thinking in the Real World      G3       45   \n",
       "116398     IDIS002  Critical Thinking in the Real World      G2       45   \n",
       "116399     IDIS002  Critical Thinking in the Real World      G3       45   \n",
       "138222     IDIS002  Critical Thinking in the Real World      G2       45   \n",
       "138223     IDIS002  Critical Thinking in the Real World      G3       45   \n",
       "153202     COR1701  Critical Thinking in the Real World      G2       45   \n",
       "153203     COR1701  Critical Thinking in the Real World      G3       45   \n",
       "172002     COR1701  Critical Thinking in the Real World      G2       45   \n",
       "172003     COR1701  Critical Thinking in the Real World      G3       45   \n",
       "188680     COR1701  Critical Thinking in the Real World      G2       45   \n",
       "188681     COR1701  Critical Thinking in the Real World      G3       45   \n",
       "212643     COR1701  Critical Thinking in the Real World      G2       45   \n",
       "212644     COR1701  Critical Thinking in the Real World      G3       46   \n",
       "228662     COR1701  Critical Thinking in the Real World      G2       45   \n",
       "228663     COR1701  Critical Thinking in the Real World      G3       45   \n",
       "242183     COR1701  Critical Thinking in the Real World      G2       45   \n",
       "242184     COR1701  Critical Thinking in the Real World      G3       45   \n",
       "\n",
       "        opening_vacancy  before_process_vacancy  dice  after_process_vacancy  \\\n",
       "68274                45                      45     0                      0   \n",
       "68275                45                      45     0                      0   \n",
       "82107                23                      23     0                      0   \n",
       "82108                23                      23     0                      0   \n",
       "102107               45                      45     0                      0   \n",
       "102108               45                      45     0                      0   \n",
       "116398               21                      21     0                      0   \n",
       "116399               21                      20     0                      0   \n",
       "138222               45                      45     0                      0   \n",
       "138223               45                      45     0                      0   \n",
       "153202               38                      38     0                      0   \n",
       "153203               38                      38     0                      0   \n",
       "172002               45                      45     0                      0   \n",
       "172003               45                      45     0                      0   \n",
       "188680               38                      38     0                      0   \n",
       "188681               38                      38     0                      0   \n",
       "212643               45                      45     0                      0   \n",
       "212644               45                      45     0                      0   \n",
       "228662               38                      38     0                      2   \n",
       "228663               38                      38     0                      0   \n",
       "242183               45                      45     0                      0   \n",
       "242184               45                      44     0                      0   \n",
       "\n",
       "        enrolled_students  median_bid  min_bid          instructor school  \\\n",
       "68274                  45       30.00    27.92       JOHN WILLIAMS   SOSS   \n",
       "68275                  45       30.80    28.23        MARK NOWACKI   SOSS   \n",
       "82107                  23       34.74    33.10        STEVEN BURIK   SOSS   \n",
       "82108                  23       35.10    34.50       JOHN WILLIAMS   SOSS   \n",
       "102107                 45       42.50    40.12        STEVEN BURIK   SOSS   \n",
       "102108                 45       42.34    40.98        STEVEN BURIK   SOSS   \n",
       "116398                 21       45.63    44.13        STEVEN BURIK   SOSS   \n",
       "116399                 21       45.49    44.70        STEVEN BURIK   SOSS   \n",
       "138222                 45       50.00    48.00        STEVEN BURIK   SOSS   \n",
       "138223                 45       49.89    48.87        STEVEN BURIK   SOSS   \n",
       "153202                 38       50.93    48.00   MATTHEW HAMMERTON   SOSS   \n",
       "153203                 38       51.68    50.00        STEVEN BURIK   SOSS   \n",
       "172002                 45       55.00    52.50        STEVEN BURIK   SOSS   \n",
       "172003                 45       59.04    54.89        STEVEN BURIK   SOSS   \n",
       "188680                 38       57.01    55.00        STEVEN BURIK   SOSS   \n",
       "188681                 38       55.56    53.00        STEVEN BURIK   SOSS   \n",
       "212643                 45       57.00    55.50        STEVEN BURIK   SOSS   \n",
       "212644                 45       50.89    42.13         SOVAN PATRA   SOSS   \n",
       "228662                 36       57.02    10.00        STEVEN BURIK   SOSS   \n",
       "228663                 38       56.28    40.72        STEVEN BURIK   SOSS   \n",
       "242183                 45       52.22    49.00   MATTHEW HAMMERTON   SOSS   \n",
       "242184                 45       53.00    50.07   MATTHEW HAMMERTON   SOSS   \n",
       "\n",
       "           year  num_sections  \n",
       "68274   2016-17            63  \n",
       "68275   2016-17            63  \n",
       "82107   2017-18            57  \n",
       "82108   2017-18            57  \n",
       "102107  2017-18            72  \n",
       "102108  2017-18            72  \n",
       "116398  2018-19           133  \n",
       "116399  2018-19           133  \n",
       "138222  2018-19            95  \n",
       "138223  2018-19            95  \n",
       "153202  2019-20           146  \n",
       "153203  2019-20           146  \n",
       "172002  2019-20            96  \n",
       "172003  2019-20            96  \n",
       "188680  2020-21           146  \n",
       "188681  2020-21           146  \n",
       "212643  2020-21           180  \n",
       "212644  2020-21           180  \n",
       "228662  2021-22           171  \n",
       "228663  2021-22           171  \n",
       "242183  2021-22            54  \n",
       "242184  2021-22            54  "
      ]
     },
     "execution_count": 5,
     "metadata": {},
     "output_type": "execute_result"
    }
   ],
   "source": [
    "### Debug\n",
    "filter_dataset(course_code = None, \n",
    "               course_name = \"Critical Thinking in the Real World\",\n",
    "               bidding_window = \"Round 1 Window 1\",\n",
    "               section_no = ['G2','G3'],\n",
    "               term = None,\n",
    "               instructor = None\n",
    "              )"
   ]
  },
  {
   "cell_type": "code",
   "execution_count": 6,
   "id": "15804562",
   "metadata": {},
   "outputs": [],
   "source": [
    "test = filter_dataset(course_code = None, \n",
    "               course_name = \"Critical Thinking in the Real World\",\n",
    "               bidding_window = \"Incoming Freshmen Rnd 1 Win 1\",\n",
    "               section_no = ['G2','G3'],\n",
    "               term = None,\n",
    "               instructor = None\n",
    "              )"
   ]
  },
  {
   "cell_type": "code",
   "execution_count": 7,
   "id": "924a9d86",
   "metadata": {},
   "outputs": [
    {
     "data": {
      "text/html": [
       "<div>\n",
       "<style scoped>\n",
       "    .dataframe tbody tr th:only-of-type {\n",
       "        vertical-align: middle;\n",
       "    }\n",
       "\n",
       "    .dataframe tbody tr th {\n",
       "        vertical-align: top;\n",
       "    }\n",
       "\n",
       "    .dataframe thead th {\n",
       "        text-align: right;\n",
       "    }\n",
       "</style>\n",
       "<table border=\"1\" class=\"dataframe\">\n",
       "  <thead>\n",
       "    <tr style=\"text-align: right;\">\n",
       "      <th></th>\n",
       "      <th>Unnamed: 0</th>\n",
       "      <th>term</th>\n",
       "      <th>session</th>\n",
       "      <th>bidding_window</th>\n",
       "      <th>course_code</th>\n",
       "      <th>description</th>\n",
       "      <th>section</th>\n",
       "      <th>vacancy</th>\n",
       "      <th>opening_vacancy</th>\n",
       "      <th>before_process_vacancy</th>\n",
       "      <th>dice</th>\n",
       "      <th>after_process_vacancy</th>\n",
       "      <th>enrolled_students</th>\n",
       "      <th>median_bid</th>\n",
       "      <th>min_bid</th>\n",
       "      <th>instructor</th>\n",
       "      <th>school</th>\n",
       "      <th>year</th>\n",
       "      <th>num_sections</th>\n",
       "      <th>Time</th>\n",
       "    </tr>\n",
       "  </thead>\n",
       "  <tbody>\n",
       "    <tr>\n",
       "      <th>85721</th>\n",
       "      <td>85721</td>\n",
       "      <td>Term 1</td>\n",
       "      <td>Regular Academic Session</td>\n",
       "      <td>Incoming Freshmen Rnd 1 Win 1</td>\n",
       "      <td>IDIS002</td>\n",
       "      <td>Critical Thinking in the Real World</td>\n",
       "      <td>G2</td>\n",
       "      <td>45</td>\n",
       "      <td>45</td>\n",
       "      <td>22</td>\n",
       "      <td>0</td>\n",
       "      <td>0</td>\n",
       "      <td>45</td>\n",
       "      <td>32.00</td>\n",
       "      <td>27.78</td>\n",
       "      <td>STEVEN BURIK</td>\n",
       "      <td>SOSS</td>\n",
       "      <td>2017-18</td>\n",
       "      <td>57</td>\n",
       "      <td>2017-18 Term 1</td>\n",
       "    </tr>\n",
       "    <tr>\n",
       "      <th>85722</th>\n",
       "      <td>85722</td>\n",
       "      <td>Term 1</td>\n",
       "      <td>Regular Academic Session</td>\n",
       "      <td>Incoming Freshmen Rnd 1 Win 1</td>\n",
       "      <td>IDIS002</td>\n",
       "      <td>Critical Thinking in the Real World</td>\n",
       "      <td>G3</td>\n",
       "      <td>45</td>\n",
       "      <td>45</td>\n",
       "      <td>22</td>\n",
       "      <td>0</td>\n",
       "      <td>0</td>\n",
       "      <td>45</td>\n",
       "      <td>31.06</td>\n",
       "      <td>28.82</td>\n",
       "      <td>JOHN WILLIAMS</td>\n",
       "      <td>SOSS</td>\n",
       "      <td>2017-18</td>\n",
       "      <td>57</td>\n",
       "      <td>2017-18 Term 1</td>\n",
       "    </tr>\n",
       "    <tr>\n",
       "      <th>120316</th>\n",
       "      <td>120316</td>\n",
       "      <td>Term 1</td>\n",
       "      <td>Regular Academic Session</td>\n",
       "      <td>Incoming Freshmen Rnd 1 Win 1</td>\n",
       "      <td>IDIS002</td>\n",
       "      <td>Critical Thinking in the Real World</td>\n",
       "      <td>G2</td>\n",
       "      <td>45</td>\n",
       "      <td>45</td>\n",
       "      <td>24</td>\n",
       "      <td>0</td>\n",
       "      <td>0</td>\n",
       "      <td>45</td>\n",
       "      <td>34.38</td>\n",
       "      <td>33.00</td>\n",
       "      <td>STEVEN BURIK</td>\n",
       "      <td>SOSS</td>\n",
       "      <td>2018-19</td>\n",
       "      <td>133</td>\n",
       "      <td>2018-19 Term 1</td>\n",
       "    </tr>\n",
       "    <tr>\n",
       "      <th>120317</th>\n",
       "      <td>120317</td>\n",
       "      <td>Term 1</td>\n",
       "      <td>Regular Academic Session</td>\n",
       "      <td>Incoming Freshmen Rnd 1 Win 1</td>\n",
       "      <td>IDIS002</td>\n",
       "      <td>Critical Thinking in the Real World</td>\n",
       "      <td>G3</td>\n",
       "      <td>45</td>\n",
       "      <td>45</td>\n",
       "      <td>25</td>\n",
       "      <td>0</td>\n",
       "      <td>0</td>\n",
       "      <td>45</td>\n",
       "      <td>34.98</td>\n",
       "      <td>34.00</td>\n",
       "      <td>STEVEN BURIK</td>\n",
       "      <td>SOSS</td>\n",
       "      <td>2018-19</td>\n",
       "      <td>133</td>\n",
       "      <td>2018-19 Term 1</td>\n",
       "    </tr>\n",
       "    <tr>\n",
       "      <th>157140</th>\n",
       "      <td>157140</td>\n",
       "      <td>Term 1</td>\n",
       "      <td>Regular Academic Session</td>\n",
       "      <td>Incoming Freshmen Rnd 1 Win 1</td>\n",
       "      <td>COR1701</td>\n",
       "      <td>Critical Thinking in the Real World</td>\n",
       "      <td>G2</td>\n",
       "      <td>45</td>\n",
       "      <td>45</td>\n",
       "      <td>7</td>\n",
       "      <td>0</td>\n",
       "      <td>0</td>\n",
       "      <td>45</td>\n",
       "      <td>40.00</td>\n",
       "      <td>35.21</td>\n",
       "      <td>MATTHEW HAMMERTON</td>\n",
       "      <td>SOSS</td>\n",
       "      <td>2019-20</td>\n",
       "      <td>146</td>\n",
       "      <td>2019-20 Term 1</td>\n",
       "    </tr>\n",
       "  </tbody>\n",
       "</table>\n",
       "</div>"
      ],
      "text/plain": [
       "        Unnamed: 0    term                   session  \\\n",
       "85721        85721  Term 1  Regular Academic Session   \n",
       "85722        85722  Term 1  Regular Academic Session   \n",
       "120316      120316  Term 1  Regular Academic Session   \n",
       "120317      120317  Term 1  Regular Academic Session   \n",
       "157140      157140  Term 1  Regular Academic Session   \n",
       "\n",
       "                       bidding_window course_code  \\\n",
       "85721   Incoming Freshmen Rnd 1 Win 1     IDIS002   \n",
       "85722   Incoming Freshmen Rnd 1 Win 1     IDIS002   \n",
       "120316  Incoming Freshmen Rnd 1 Win 1     IDIS002   \n",
       "120317  Incoming Freshmen Rnd 1 Win 1     IDIS002   \n",
       "157140  Incoming Freshmen Rnd 1 Win 1     COR1701   \n",
       "\n",
       "                                description section  vacancy  opening_vacancy  \\\n",
       "85721   Critical Thinking in the Real World      G2       45               45   \n",
       "85722   Critical Thinking in the Real World      G3       45               45   \n",
       "120316  Critical Thinking in the Real World      G2       45               45   \n",
       "120317  Critical Thinking in the Real World      G3       45               45   \n",
       "157140  Critical Thinking in the Real World      G2       45               45   \n",
       "\n",
       "        before_process_vacancy  dice  after_process_vacancy  \\\n",
       "85721                       22     0                      0   \n",
       "85722                       22     0                      0   \n",
       "120316                      24     0                      0   \n",
       "120317                      25     0                      0   \n",
       "157140                       7     0                      0   \n",
       "\n",
       "        enrolled_students  median_bid  min_bid          instructor school  \\\n",
       "85721                  45       32.00    27.78        STEVEN BURIK   SOSS   \n",
       "85722                  45       31.06    28.82       JOHN WILLIAMS   SOSS   \n",
       "120316                 45       34.38    33.00        STEVEN BURIK   SOSS   \n",
       "120317                 45       34.98    34.00        STEVEN BURIK   SOSS   \n",
       "157140                 45       40.00    35.21   MATTHEW HAMMERTON   SOSS   \n",
       "\n",
       "           year  num_sections            Time  \n",
       "85721   2017-18            57  2017-18 Term 1  \n",
       "85722   2017-18            57  2017-18 Term 1  \n",
       "120316  2018-19           133  2018-19 Term 1  \n",
       "120317  2018-19           133  2018-19 Term 1  \n",
       "157140  2019-20           146  2019-20 Term 1  "
      ]
     },
     "execution_count": 7,
     "metadata": {},
     "output_type": "execute_result"
    }
   ],
   "source": [
    "test['Time'] = [\" \".join([year,term]) for year, term in zip(test['year'], test['term'])]\n",
    "\n",
    "test.head()"
   ]
  },
  {
   "cell_type": "code",
   "execution_count": 8,
   "id": "6f87bde8",
   "metadata": {},
   "outputs": [],
   "source": [
    "def generate_graphs(df, *args):\n",
    "    import plotly.graph_objects as go\n",
    "    from plotly.subplots import make_subplots\n",
    "    ### Chart titles\n",
    "    subplot_titles_ = [\n",
    "        'Vacancy and Opening Vacancy against time', \n",
    "        'Before and After Window Vacancy against time',\n",
    "        'Median Bid and Min Bid against time',\n",
    "        'Combination Graph',\n",
    "                      ]\n",
    "    \n",
    "    specs_ = [[{}],[{}], [{}], [{'secondary_y' : True}]]\n",
    "    \n",
    "    ### generate dashboard title\n",
    "    chart_title = \"Data from\"\n",
    "    \n",
    "    for item in args:\n",
    "        if item == None: continue\n",
    "        chart_title += f\" {item} |\"\n",
    "    \n",
    "    \n",
    "    ### generate colour format\n",
    "    COLOUR_FMT = {\n",
    "        'vacancy': dict(color = 'red', opacity = 0.6),\n",
    "        'opening_vacancy': dict(color = 'blue', opacity  = 0.6),\n",
    "        'median_bid': dict(color = 'cyan', opacity  = 0.75),\n",
    "        'min_bid': dict(color = 'black', opacity = 0.75),\n",
    "        'before_process_vacancy': dict(color = 'green', opacity = 0.6),\n",
    "        'after_process_vacancy': dict(color = 'darkred', opacity = 0.75)\n",
    "        \n",
    "    }\n",
    "    \n",
    "    fig = make_subplots(rows = 4, cols = 1, subplot_titles = subplot_titles_, specs = specs_)\n",
    "    fig.update_layout(width = 700 if len(df) < 10 else 1400 if len(df) < 20 else 2100, \n",
    "                      height = int(400*len(subplot_titles_)), \n",
    "                      showlegend = True , title_text = chart_title, title_font = dict(size = 10))\n",
    "    \n",
    "    \n",
    "    ## Graph 1 - Vacancy and Opening Vacancy against time\n",
    "    fig.add_trace(\n",
    "        go.Bar(x = df['Time'], y = df['vacancy'], marker = COLOUR_FMT['vacancy'], name = 'Vacancy'), \n",
    "        row = 1, col = 1\n",
    "    )\n",
    "    fig.add_trace(\n",
    "        go.Bar(x = df['Time'], y = df['opening_vacancy'], marker = COLOUR_FMT['opening_vacancy'], \n",
    "               name = 'Opening Vacancy'), row = 1, col = 1\n",
    "    )\n",
    "    \n",
    "    fig.update_yaxes(title = \"Vacancy\", range = [-1,45], row = 1, col = 1)\n",
    "    \n",
    "    ## Graph 2 - Before and After Window Vacancy\n",
    "    fig.add_trace(\n",
    "        go.Bar(x = df['Time'], y = df['before_process_vacancy'], marker = COLOUR_FMT['before_process_vacancy'],\n",
    "               name = 'Before'), row = 2, col = 1\n",
    "    )\n",
    "    fig.add_trace(\n",
    "        go.Bar(x = df['Time'], y = df['after_process_vacancy'], marker = COLOUR_FMT['after_process_vacancy'],\n",
    "              name = 'After'), row = 2, col = 1\n",
    "    )\n",
    "    \n",
    "    fig.update_yaxes(title = \"Vacancy\",range = [-1,45], row = 2, col = 1)\n",
    "    \n",
    "    \n",
    "    ### Graph 3 - Median Bid and Min Bid over time\n",
    "    fig.add_trace(\n",
    "        go.Scatter(x = df['Time'], y= df['min_bid'], mode = 'lines+markers', marker = COLOUR_FMT['min_bid'], \n",
    "                   name = 'Minimum'), row = 3, col = 1\n",
    "    )\n",
    "    fig.add_trace(\n",
    "        go.Scatter(x = df['Time'], y = df['median_bid'], mode = 'lines+markers', marker = COLOUR_FMT['median_bid'], \n",
    "                   name = 'Median'), row = 3, col = 1\n",
    "    )\n",
    "    \n",
    "    fig.update_yaxes(title = 'e-credits', range = [10, 50], row = 3, col = 1)\n",
    "    \n",
    "    ### Graph 4 - Before Process Vacancy with Median Bid over time\n",
    "    fig.add_trace(\n",
    "        go.Bar(x = df['Time'], y = df['before_process_vacancy'], marker = COLOUR_FMT['before_process_vacancy'], \n",
    "               name = 'Before'), row = 4, col = 1, secondary_y = True\n",
    "    )\n",
    "    fig.add_trace(\n",
    "        go.Bar(x = df['Time'], y = df['after_process_vacancy'], marker = COLOUR_FMT['after_process_vacancy'],\n",
    "               name = 'After'), row = 4, col = 1, secondary_y = True\n",
    "    )\n",
    "    fig.add_trace(\n",
    "        go.Scatter(x = df['Time'], y= df['min_bid'], mode = 'lines+markers', marker = COLOUR_FMT['min_bid'], \n",
    "                  hoverinfo = 'text', hovertext = list(zip(df['min_bid'],df['section'],df['instructor'])), \n",
    "                   name = 'Minimum'), row = 4, col = 1\n",
    "    )\n",
    "    fig.add_trace(\n",
    "        go.Scatter(x = df['Time'], y = df['median_bid'], mode = 'lines+markers', marker = COLOUR_FMT['median_bid'],\n",
    "                  hoverinfo = 'text', hovertext = list(zip(df['median_bid'], df['section'], df['instructor'])), \n",
    "                   name = 'Median'), row = 4, col = 1\n",
    "    )\n",
    "    fig.update_yaxes(title = 'e-credits', range = [10,50], row = 4, col = 1)\n",
    "    fig.update_yaxes(title = 'Vacancy', row = 4, col = 1, range = [-1,45], secondary_y = True)\n",
    "    \n",
    "    \n",
    "    #fig.show()\n",
    "    return fig, chart_title"
   ]
  },
  {
   "cell_type": "code",
   "execution_count": 87,
   "id": "44600139",
   "metadata": {},
   "outputs": [
    {
     "data": {
      "application/vnd.plotly.v1+json": {
       "config": {
        "plotlyServerURL": "https://plot.ly"
       },
       "data": [
        {
         "marker": {
          "color": "red",
          "opacity": 0.6
         },
         "name": "Vacancy",
         "type": "bar",
         "x": [
          "2017-18 Term 1",
          "2018-19 Term 1",
          "2019-20 Term 1",
          "2020-21 Term 1",
          "2021-22 Term 1"
         ],
         "xaxis": "x",
         "y": [
          45,
          45,
          45,
          45,
          45
         ],
         "yaxis": "y"
        },
        {
         "marker": {
          "color": "blue",
          "opacity": 0.6
         },
         "name": "Opening Vacancy",
         "type": "bar",
         "x": [
          "2017-18 Term 1",
          "2018-19 Term 1",
          "2019-20 Term 1",
          "2020-21 Term 1",
          "2021-22 Term 1"
         ],
         "xaxis": "x",
         "y": [
          45,
          45,
          45,
          45,
          45
         ],
         "yaxis": "y"
        },
        {
         "marker": {
          "color": "green",
          "opacity": 0.6
         },
         "name": "Before",
         "type": "bar",
         "x": [
          "2017-18 Term 1",
          "2018-19 Term 1",
          "2019-20 Term 1",
          "2020-21 Term 1",
          "2021-22 Term 1"
         ],
         "xaxis": "x2",
         "y": [
          22,
          24,
          7,
          7,
          7
         ],
         "yaxis": "y2"
        },
        {
         "marker": {
          "color": "darkred",
          "opacity": 0.75
         },
         "name": "After",
         "type": "bar",
         "x": [
          "2017-18 Term 1",
          "2018-19 Term 1",
          "2019-20 Term 1",
          "2020-21 Term 1",
          "2021-22 Term 1"
         ],
         "xaxis": "x2",
         "y": [
          0,
          0,
          0,
          0,
          0
         ],
         "yaxis": "y2"
        },
        {
         "marker": {
          "color": "black",
          "opacity": 0.75
         },
         "mode": "lines+markers",
         "name": "Minimum",
         "type": "scatter",
         "x": [
          "2017-18 Term 1",
          "2018-19 Term 1",
          "2019-20 Term 1",
          "2020-21 Term 1",
          "2021-22 Term 1"
         ],
         "xaxis": "x3",
         "y": [
          27.78,
          33,
          35.21,
          40,
          40
         ],
         "yaxis": "y3"
        },
        {
         "marker": {
          "color": "cyan",
          "opacity": 0.75
         },
         "mode": "lines+markers",
         "name": "Median",
         "type": "scatter",
         "x": [
          "2017-18 Term 1",
          "2018-19 Term 1",
          "2019-20 Term 1",
          "2020-21 Term 1",
          "2021-22 Term 1"
         ],
         "xaxis": "x3",
         "y": [
          32,
          34.38,
          40,
          40,
          40
         ],
         "yaxis": "y3"
        },
        {
         "marker": {
          "color": "green",
          "opacity": 0.6
         },
         "name": "Before",
         "type": "bar",
         "x": [
          "2017-18 Term 1",
          "2018-19 Term 1",
          "2019-20 Term 1",
          "2020-21 Term 1",
          "2021-22 Term 1"
         ],
         "xaxis": "x4",
         "y": [
          22,
          24,
          7,
          7,
          7
         ],
         "yaxis": "y5"
        },
        {
         "marker": {
          "color": "darkred",
          "opacity": 0.75
         },
         "name": "After",
         "type": "bar",
         "x": [
          "2017-18 Term 1",
          "2018-19 Term 1",
          "2019-20 Term 1",
          "2020-21 Term 1",
          "2021-22 Term 1"
         ],
         "xaxis": "x4",
         "y": [
          0,
          0,
          0,
          0,
          0
         ],
         "yaxis": "y5"
        },
        {
         "hoverinfo": "text",
         "hovertext": [
          "(27.78, 'G2', 'STEVEN BURIK')",
          "(33.0, 'G2', ' STEVEN BURIK')",
          "(35.21, 'G2', ' MATTHEW HAMMERTON')",
          "(40.0, 'G2', ' STEVEN BURIK')",
          "(40.0, 'G2', ' STEVEN BURIK')"
         ],
         "marker": {
          "color": "black",
          "opacity": 0.75
         },
         "mode": "lines+markers",
         "name": "Minimum",
         "type": "scatter",
         "x": [
          "2017-18 Term 1",
          "2018-19 Term 1",
          "2019-20 Term 1",
          "2020-21 Term 1",
          "2021-22 Term 1"
         ],
         "xaxis": "x4",
         "y": [
          27.78,
          33,
          35.21,
          40,
          40
         ],
         "yaxis": "y4"
        },
        {
         "hoverinfo": "text",
         "hovertext": [
          "(32.0, 'G2', 'STEVEN BURIK')",
          "(34.38, 'G2', ' STEVEN BURIK')",
          "(40.0, 'G2', ' MATTHEW HAMMERTON')",
          "(40.0, 'G2', ' STEVEN BURIK')",
          "(40.0, 'G2', ' STEVEN BURIK')"
         ],
         "marker": {
          "color": "cyan",
          "opacity": 0.75
         },
         "mode": "lines+markers",
         "name": "Median",
         "type": "scatter",
         "x": [
          "2017-18 Term 1",
          "2018-19 Term 1",
          "2019-20 Term 1",
          "2020-21 Term 1",
          "2021-22 Term 1"
         ],
         "xaxis": "x4",
         "y": [
          32,
          34.38,
          40,
          40,
          40
         ],
         "yaxis": "y4"
        }
       ],
       "layout": {
        "annotations": [
         {
          "font": {
           "size": 16
          },
          "showarrow": false,
          "text": "Vacancy and Opening Vacancy against time",
          "x": 0.47,
          "xanchor": "center",
          "xref": "paper",
          "y": 1,
          "yanchor": "bottom",
          "yref": "paper"
         },
         {
          "font": {
           "size": 16
          },
          "showarrow": false,
          "text": "Before and After Window Vacancy against time",
          "x": 0.47,
          "xanchor": "center",
          "xref": "paper",
          "y": 0.71875,
          "yanchor": "bottom",
          "yref": "paper"
         },
         {
          "font": {
           "size": 16
          },
          "showarrow": false,
          "text": "Median Bid and Min Bid against time",
          "x": 0.47,
          "xanchor": "center",
          "xref": "paper",
          "y": 0.4375,
          "yanchor": "bottom",
          "yref": "paper"
         },
         {
          "font": {
           "size": 16
          },
          "showarrow": false,
          "text": "Combination Graph",
          "x": 0.47,
          "xanchor": "center",
          "xref": "paper",
          "y": 0.15625,
          "yanchor": "bottom",
          "yref": "paper"
         }
        ],
        "height": 1600,
        "showlegend": true,
        "template": {
         "data": {
          "bar": [
           {
            "error_x": {
             "color": "#2a3f5f"
            },
            "error_y": {
             "color": "#2a3f5f"
            },
            "marker": {
             "line": {
              "color": "#E5ECF6",
              "width": 0.5
             },
             "pattern": {
              "fillmode": "overlay",
              "size": 10,
              "solidity": 0.2
             }
            },
            "type": "bar"
           }
          ],
          "barpolar": [
           {
            "marker": {
             "line": {
              "color": "#E5ECF6",
              "width": 0.5
             },
             "pattern": {
              "fillmode": "overlay",
              "size": 10,
              "solidity": 0.2
             }
            },
            "type": "barpolar"
           }
          ],
          "carpet": [
           {
            "aaxis": {
             "endlinecolor": "#2a3f5f",
             "gridcolor": "white",
             "linecolor": "white",
             "minorgridcolor": "white",
             "startlinecolor": "#2a3f5f"
            },
            "baxis": {
             "endlinecolor": "#2a3f5f",
             "gridcolor": "white",
             "linecolor": "white",
             "minorgridcolor": "white",
             "startlinecolor": "#2a3f5f"
            },
            "type": "carpet"
           }
          ],
          "choropleth": [
           {
            "colorbar": {
             "outlinewidth": 0,
             "ticks": ""
            },
            "type": "choropleth"
           }
          ],
          "contour": [
           {
            "colorbar": {
             "outlinewidth": 0,
             "ticks": ""
            },
            "colorscale": [
             [
              0,
              "#0d0887"
             ],
             [
              0.1111111111111111,
              "#46039f"
             ],
             [
              0.2222222222222222,
              "#7201a8"
             ],
             [
              0.3333333333333333,
              "#9c179e"
             ],
             [
              0.4444444444444444,
              "#bd3786"
             ],
             [
              0.5555555555555556,
              "#d8576b"
             ],
             [
              0.6666666666666666,
              "#ed7953"
             ],
             [
              0.7777777777777778,
              "#fb9f3a"
             ],
             [
              0.8888888888888888,
              "#fdca26"
             ],
             [
              1,
              "#f0f921"
             ]
            ],
            "type": "contour"
           }
          ],
          "contourcarpet": [
           {
            "colorbar": {
             "outlinewidth": 0,
             "ticks": ""
            },
            "type": "contourcarpet"
           }
          ],
          "heatmap": [
           {
            "colorbar": {
             "outlinewidth": 0,
             "ticks": ""
            },
            "colorscale": [
             [
              0,
              "#0d0887"
             ],
             [
              0.1111111111111111,
              "#46039f"
             ],
             [
              0.2222222222222222,
              "#7201a8"
             ],
             [
              0.3333333333333333,
              "#9c179e"
             ],
             [
              0.4444444444444444,
              "#bd3786"
             ],
             [
              0.5555555555555556,
              "#d8576b"
             ],
             [
              0.6666666666666666,
              "#ed7953"
             ],
             [
              0.7777777777777778,
              "#fb9f3a"
             ],
             [
              0.8888888888888888,
              "#fdca26"
             ],
             [
              1,
              "#f0f921"
             ]
            ],
            "type": "heatmap"
           }
          ],
          "heatmapgl": [
           {
            "colorbar": {
             "outlinewidth": 0,
             "ticks": ""
            },
            "colorscale": [
             [
              0,
              "#0d0887"
             ],
             [
              0.1111111111111111,
              "#46039f"
             ],
             [
              0.2222222222222222,
              "#7201a8"
             ],
             [
              0.3333333333333333,
              "#9c179e"
             ],
             [
              0.4444444444444444,
              "#bd3786"
             ],
             [
              0.5555555555555556,
              "#d8576b"
             ],
             [
              0.6666666666666666,
              "#ed7953"
             ],
             [
              0.7777777777777778,
              "#fb9f3a"
             ],
             [
              0.8888888888888888,
              "#fdca26"
             ],
             [
              1,
              "#f0f921"
             ]
            ],
            "type": "heatmapgl"
           }
          ],
          "histogram": [
           {
            "marker": {
             "pattern": {
              "fillmode": "overlay",
              "size": 10,
              "solidity": 0.2
             }
            },
            "type": "histogram"
           }
          ],
          "histogram2d": [
           {
            "colorbar": {
             "outlinewidth": 0,
             "ticks": ""
            },
            "colorscale": [
             [
              0,
              "#0d0887"
             ],
             [
              0.1111111111111111,
              "#46039f"
             ],
             [
              0.2222222222222222,
              "#7201a8"
             ],
             [
              0.3333333333333333,
              "#9c179e"
             ],
             [
              0.4444444444444444,
              "#bd3786"
             ],
             [
              0.5555555555555556,
              "#d8576b"
             ],
             [
              0.6666666666666666,
              "#ed7953"
             ],
             [
              0.7777777777777778,
              "#fb9f3a"
             ],
             [
              0.8888888888888888,
              "#fdca26"
             ],
             [
              1,
              "#f0f921"
             ]
            ],
            "type": "histogram2d"
           }
          ],
          "histogram2dcontour": [
           {
            "colorbar": {
             "outlinewidth": 0,
             "ticks": ""
            },
            "colorscale": [
             [
              0,
              "#0d0887"
             ],
             [
              0.1111111111111111,
              "#46039f"
             ],
             [
              0.2222222222222222,
              "#7201a8"
             ],
             [
              0.3333333333333333,
              "#9c179e"
             ],
             [
              0.4444444444444444,
              "#bd3786"
             ],
             [
              0.5555555555555556,
              "#d8576b"
             ],
             [
              0.6666666666666666,
              "#ed7953"
             ],
             [
              0.7777777777777778,
              "#fb9f3a"
             ],
             [
              0.8888888888888888,
              "#fdca26"
             ],
             [
              1,
              "#f0f921"
             ]
            ],
            "type": "histogram2dcontour"
           }
          ],
          "mesh3d": [
           {
            "colorbar": {
             "outlinewidth": 0,
             "ticks": ""
            },
            "type": "mesh3d"
           }
          ],
          "parcoords": [
           {
            "line": {
             "colorbar": {
              "outlinewidth": 0,
              "ticks": ""
             }
            },
            "type": "parcoords"
           }
          ],
          "pie": [
           {
            "automargin": true,
            "type": "pie"
           }
          ],
          "scatter": [
           {
            "fillpattern": {
             "fillmode": "overlay",
             "size": 10,
             "solidity": 0.2
            },
            "type": "scatter"
           }
          ],
          "scatter3d": [
           {
            "line": {
             "colorbar": {
              "outlinewidth": 0,
              "ticks": ""
             }
            },
            "marker": {
             "colorbar": {
              "outlinewidth": 0,
              "ticks": ""
             }
            },
            "type": "scatter3d"
           }
          ],
          "scattercarpet": [
           {
            "marker": {
             "colorbar": {
              "outlinewidth": 0,
              "ticks": ""
             }
            },
            "type": "scattercarpet"
           }
          ],
          "scattergeo": [
           {
            "marker": {
             "colorbar": {
              "outlinewidth": 0,
              "ticks": ""
             }
            },
            "type": "scattergeo"
           }
          ],
          "scattergl": [
           {
            "marker": {
             "colorbar": {
              "outlinewidth": 0,
              "ticks": ""
             }
            },
            "type": "scattergl"
           }
          ],
          "scattermapbox": [
           {
            "marker": {
             "colorbar": {
              "outlinewidth": 0,
              "ticks": ""
             }
            },
            "type": "scattermapbox"
           }
          ],
          "scatterpolar": [
           {
            "marker": {
             "colorbar": {
              "outlinewidth": 0,
              "ticks": ""
             }
            },
            "type": "scatterpolar"
           }
          ],
          "scatterpolargl": [
           {
            "marker": {
             "colorbar": {
              "outlinewidth": 0,
              "ticks": ""
             }
            },
            "type": "scatterpolargl"
           }
          ],
          "scatterternary": [
           {
            "marker": {
             "colorbar": {
              "outlinewidth": 0,
              "ticks": ""
             }
            },
            "type": "scatterternary"
           }
          ],
          "surface": [
           {
            "colorbar": {
             "outlinewidth": 0,
             "ticks": ""
            },
            "colorscale": [
             [
              0,
              "#0d0887"
             ],
             [
              0.1111111111111111,
              "#46039f"
             ],
             [
              0.2222222222222222,
              "#7201a8"
             ],
             [
              0.3333333333333333,
              "#9c179e"
             ],
             [
              0.4444444444444444,
              "#bd3786"
             ],
             [
              0.5555555555555556,
              "#d8576b"
             ],
             [
              0.6666666666666666,
              "#ed7953"
             ],
             [
              0.7777777777777778,
              "#fb9f3a"
             ],
             [
              0.8888888888888888,
              "#fdca26"
             ],
             [
              1,
              "#f0f921"
             ]
            ],
            "type": "surface"
           }
          ],
          "table": [
           {
            "cells": {
             "fill": {
              "color": "#EBF0F8"
             },
             "line": {
              "color": "white"
             }
            },
            "header": {
             "fill": {
              "color": "#C8D4E3"
             },
             "line": {
              "color": "white"
             }
            },
            "type": "table"
           }
          ]
         },
         "layout": {
          "annotationdefaults": {
           "arrowcolor": "#2a3f5f",
           "arrowhead": 0,
           "arrowwidth": 1
          },
          "autotypenumbers": "strict",
          "coloraxis": {
           "colorbar": {
            "outlinewidth": 0,
            "ticks": ""
           }
          },
          "colorscale": {
           "diverging": [
            [
             0,
             "#8e0152"
            ],
            [
             0.1,
             "#c51b7d"
            ],
            [
             0.2,
             "#de77ae"
            ],
            [
             0.3,
             "#f1b6da"
            ],
            [
             0.4,
             "#fde0ef"
            ],
            [
             0.5,
             "#f7f7f7"
            ],
            [
             0.6,
             "#e6f5d0"
            ],
            [
             0.7,
             "#b8e186"
            ],
            [
             0.8,
             "#7fbc41"
            ],
            [
             0.9,
             "#4d9221"
            ],
            [
             1,
             "#276419"
            ]
           ],
           "sequential": [
            [
             0,
             "#0d0887"
            ],
            [
             0.1111111111111111,
             "#46039f"
            ],
            [
             0.2222222222222222,
             "#7201a8"
            ],
            [
             0.3333333333333333,
             "#9c179e"
            ],
            [
             0.4444444444444444,
             "#bd3786"
            ],
            [
             0.5555555555555556,
             "#d8576b"
            ],
            [
             0.6666666666666666,
             "#ed7953"
            ],
            [
             0.7777777777777778,
             "#fb9f3a"
            ],
            [
             0.8888888888888888,
             "#fdca26"
            ],
            [
             1,
             "#f0f921"
            ]
           ],
           "sequentialminus": [
            [
             0,
             "#0d0887"
            ],
            [
             0.1111111111111111,
             "#46039f"
            ],
            [
             0.2222222222222222,
             "#7201a8"
            ],
            [
             0.3333333333333333,
             "#9c179e"
            ],
            [
             0.4444444444444444,
             "#bd3786"
            ],
            [
             0.5555555555555556,
             "#d8576b"
            ],
            [
             0.6666666666666666,
             "#ed7953"
            ],
            [
             0.7777777777777778,
             "#fb9f3a"
            ],
            [
             0.8888888888888888,
             "#fdca26"
            ],
            [
             1,
             "#f0f921"
            ]
           ]
          },
          "colorway": [
           "#636efa",
           "#EF553B",
           "#00cc96",
           "#ab63fa",
           "#FFA15A",
           "#19d3f3",
           "#FF6692",
           "#B6E880",
           "#FF97FF",
           "#FECB52"
          ],
          "font": {
           "color": "#2a3f5f"
          },
          "geo": {
           "bgcolor": "white",
           "lakecolor": "white",
           "landcolor": "#E5ECF6",
           "showlakes": true,
           "showland": true,
           "subunitcolor": "white"
          },
          "hoverlabel": {
           "align": "left"
          },
          "hovermode": "closest",
          "mapbox": {
           "style": "light"
          },
          "paper_bgcolor": "white",
          "plot_bgcolor": "#E5ECF6",
          "polar": {
           "angularaxis": {
            "gridcolor": "white",
            "linecolor": "white",
            "ticks": ""
           },
           "bgcolor": "#E5ECF6",
           "radialaxis": {
            "gridcolor": "white",
            "linecolor": "white",
            "ticks": ""
           }
          },
          "scene": {
           "xaxis": {
            "backgroundcolor": "#E5ECF6",
            "gridcolor": "white",
            "gridwidth": 2,
            "linecolor": "white",
            "showbackground": true,
            "ticks": "",
            "zerolinecolor": "white"
           },
           "yaxis": {
            "backgroundcolor": "#E5ECF6",
            "gridcolor": "white",
            "gridwidth": 2,
            "linecolor": "white",
            "showbackground": true,
            "ticks": "",
            "zerolinecolor": "white"
           },
           "zaxis": {
            "backgroundcolor": "#E5ECF6",
            "gridcolor": "white",
            "gridwidth": 2,
            "linecolor": "white",
            "showbackground": true,
            "ticks": "",
            "zerolinecolor": "white"
           }
          },
          "shapedefaults": {
           "line": {
            "color": "#2a3f5f"
           }
          },
          "ternary": {
           "aaxis": {
            "gridcolor": "white",
            "linecolor": "white",
            "ticks": ""
           },
           "baxis": {
            "gridcolor": "white",
            "linecolor": "white",
            "ticks": ""
           },
           "bgcolor": "#E5ECF6",
           "caxis": {
            "gridcolor": "white",
            "linecolor": "white",
            "ticks": ""
           }
          },
          "title": {
           "x": 0.05
          },
          "xaxis": {
           "automargin": true,
           "gridcolor": "white",
           "linecolor": "white",
           "ticks": "",
           "title": {
            "standoff": 15
           },
           "zerolinecolor": "white",
           "zerolinewidth": 2
          },
          "yaxis": {
           "automargin": true,
           "gridcolor": "white",
           "linecolor": "white",
           "ticks": "",
           "title": {
            "standoff": 15
           },
           "zerolinecolor": "white",
           "zerolinewidth": 2
          }
         }
        },
        "title": {
         "font": {
          "size": 10
         },
         "text": "Data from Critical Thinking in the Real World | Incoming Freshmen Rnd 1 Win 1 | G2 |"
        },
        "width": 700,
        "xaxis": {
         "anchor": "y",
         "domain": [
          0,
          0.94
         ]
        },
        "xaxis2": {
         "anchor": "y2",
         "domain": [
          0,
          0.94
         ]
        },
        "xaxis3": {
         "anchor": "y3",
         "domain": [
          0,
          0.94
         ]
        },
        "xaxis4": {
         "anchor": "y4",
         "domain": [
          0,
          0.94
         ]
        },
        "yaxis": {
         "anchor": "x",
         "domain": [
          0.84375,
          1
         ],
         "range": [
          -1,
          45
         ],
         "title": {
          "text": "Vacancy"
         }
        },
        "yaxis2": {
         "anchor": "x2",
         "domain": [
          0.5625,
          0.71875
         ],
         "range": [
          -1,
          45
         ],
         "title": {
          "text": "Vacancy"
         }
        },
        "yaxis3": {
         "anchor": "x3",
         "domain": [
          0.28125,
          0.4375
         ],
         "range": [
          10,
          50
         ],
         "title": {
          "text": "e-credits"
         }
        },
        "yaxis4": {
         "anchor": "x4",
         "domain": [
          0,
          0.15625
         ],
         "range": [
          10,
          50
         ],
         "title": {
          "text": "e-credits"
         }
        },
        "yaxis5": {
         "anchor": "x4",
         "overlaying": "y4",
         "range": [
          -1,
          45
         ],
         "side": "right",
         "title": {
          "text": "Vacancy"
         }
        }
       }
      },
      "text/html": [
       "<div>                            <div id=\"6096bdc3-dd82-492e-9698-9707b8eac312\" class=\"plotly-graph-div\" style=\"height:1600px; width:700px;\"></div>            <script type=\"text/javascript\">                require([\"plotly\"], function(Plotly) {                    window.PLOTLYENV=window.PLOTLYENV || {};                                    if (document.getElementById(\"6096bdc3-dd82-492e-9698-9707b8eac312\")) {                    Plotly.newPlot(                        \"6096bdc3-dd82-492e-9698-9707b8eac312\",                        [{\"marker\":{\"color\":\"red\",\"opacity\":0.6},\"name\":\"Vacancy\",\"x\":[\"2017-18 Term 1\",\"2018-19 Term 1\",\"2019-20 Term 1\",\"2020-21 Term 1\",\"2021-22 Term 1\"],\"y\":[45,45,45,45,45],\"type\":\"bar\",\"xaxis\":\"x\",\"yaxis\":\"y\"},{\"marker\":{\"color\":\"blue\",\"opacity\":0.6},\"name\":\"Opening Vacancy\",\"x\":[\"2017-18 Term 1\",\"2018-19 Term 1\",\"2019-20 Term 1\",\"2020-21 Term 1\",\"2021-22 Term 1\"],\"y\":[45,45,45,45,45],\"type\":\"bar\",\"xaxis\":\"x\",\"yaxis\":\"y\"},{\"marker\":{\"color\":\"green\",\"opacity\":0.6},\"name\":\"Before\",\"x\":[\"2017-18 Term 1\",\"2018-19 Term 1\",\"2019-20 Term 1\",\"2020-21 Term 1\",\"2021-22 Term 1\"],\"y\":[22,24,7,7,7],\"type\":\"bar\",\"xaxis\":\"x2\",\"yaxis\":\"y2\"},{\"marker\":{\"color\":\"darkred\",\"opacity\":0.75},\"name\":\"After\",\"x\":[\"2017-18 Term 1\",\"2018-19 Term 1\",\"2019-20 Term 1\",\"2020-21 Term 1\",\"2021-22 Term 1\"],\"y\":[0,0,0,0,0],\"type\":\"bar\",\"xaxis\":\"x2\",\"yaxis\":\"y2\"},{\"marker\":{\"color\":\"black\",\"opacity\":0.75},\"mode\":\"lines+markers\",\"name\":\"Minimum\",\"x\":[\"2017-18 Term 1\",\"2018-19 Term 1\",\"2019-20 Term 1\",\"2020-21 Term 1\",\"2021-22 Term 1\"],\"y\":[27.78,33.0,35.21,40.0,40.0],\"type\":\"scatter\",\"xaxis\":\"x3\",\"yaxis\":\"y3\"},{\"marker\":{\"color\":\"cyan\",\"opacity\":0.75},\"mode\":\"lines+markers\",\"name\":\"Median\",\"x\":[\"2017-18 Term 1\",\"2018-19 Term 1\",\"2019-20 Term 1\",\"2020-21 Term 1\",\"2021-22 Term 1\"],\"y\":[32.0,34.38,40.0,40.0,40.0],\"type\":\"scatter\",\"xaxis\":\"x3\",\"yaxis\":\"y3\"},{\"marker\":{\"color\":\"green\",\"opacity\":0.6},\"name\":\"Before\",\"x\":[\"2017-18 Term 1\",\"2018-19 Term 1\",\"2019-20 Term 1\",\"2020-21 Term 1\",\"2021-22 Term 1\"],\"y\":[22,24,7,7,7],\"type\":\"bar\",\"xaxis\":\"x4\",\"yaxis\":\"y5\"},{\"marker\":{\"color\":\"darkred\",\"opacity\":0.75},\"name\":\"After\",\"x\":[\"2017-18 Term 1\",\"2018-19 Term 1\",\"2019-20 Term 1\",\"2020-21 Term 1\",\"2021-22 Term 1\"],\"y\":[0,0,0,0,0],\"type\":\"bar\",\"xaxis\":\"x4\",\"yaxis\":\"y5\"},{\"hoverinfo\":\"text\",\"hovertext\":[\"(27.78, 'G2', 'STEVEN BURIK')\",\"(33.0, 'G2', ' STEVEN BURIK')\",\"(35.21, 'G2', ' MATTHEW HAMMERTON')\",\"(40.0, 'G2', ' STEVEN BURIK')\",\"(40.0, 'G2', ' STEVEN BURIK')\"],\"marker\":{\"color\":\"black\",\"opacity\":0.75},\"mode\":\"lines+markers\",\"name\":\"Minimum\",\"x\":[\"2017-18 Term 1\",\"2018-19 Term 1\",\"2019-20 Term 1\",\"2020-21 Term 1\",\"2021-22 Term 1\"],\"y\":[27.78,33.0,35.21,40.0,40.0],\"type\":\"scatter\",\"xaxis\":\"x4\",\"yaxis\":\"y4\"},{\"hoverinfo\":\"text\",\"hovertext\":[\"(32.0, 'G2', 'STEVEN BURIK')\",\"(34.38, 'G2', ' STEVEN BURIK')\",\"(40.0, 'G2', ' MATTHEW HAMMERTON')\",\"(40.0, 'G2', ' STEVEN BURIK')\",\"(40.0, 'G2', ' STEVEN BURIK')\"],\"marker\":{\"color\":\"cyan\",\"opacity\":0.75},\"mode\":\"lines+markers\",\"name\":\"Median\",\"x\":[\"2017-18 Term 1\",\"2018-19 Term 1\",\"2019-20 Term 1\",\"2020-21 Term 1\",\"2021-22 Term 1\"],\"y\":[32.0,34.38,40.0,40.0,40.0],\"type\":\"scatter\",\"xaxis\":\"x4\",\"yaxis\":\"y4\"}],                        {\"template\":{\"data\":{\"histogram2dcontour\":[{\"type\":\"histogram2dcontour\",\"colorbar\":{\"outlinewidth\":0,\"ticks\":\"\"},\"colorscale\":[[0.0,\"#0d0887\"],[0.1111111111111111,\"#46039f\"],[0.2222222222222222,\"#7201a8\"],[0.3333333333333333,\"#9c179e\"],[0.4444444444444444,\"#bd3786\"],[0.5555555555555556,\"#d8576b\"],[0.6666666666666666,\"#ed7953\"],[0.7777777777777778,\"#fb9f3a\"],[0.8888888888888888,\"#fdca26\"],[1.0,\"#f0f921\"]]}],\"choropleth\":[{\"type\":\"choropleth\",\"colorbar\":{\"outlinewidth\":0,\"ticks\":\"\"}}],\"histogram2d\":[{\"type\":\"histogram2d\",\"colorbar\":{\"outlinewidth\":0,\"ticks\":\"\"},\"colorscale\":[[0.0,\"#0d0887\"],[0.1111111111111111,\"#46039f\"],[0.2222222222222222,\"#7201a8\"],[0.3333333333333333,\"#9c179e\"],[0.4444444444444444,\"#bd3786\"],[0.5555555555555556,\"#d8576b\"],[0.6666666666666666,\"#ed7953\"],[0.7777777777777778,\"#fb9f3a\"],[0.8888888888888888,\"#fdca26\"],[1.0,\"#f0f921\"]]}],\"heatmap\":[{\"type\":\"heatmap\",\"colorbar\":{\"outlinewidth\":0,\"ticks\":\"\"},\"colorscale\":[[0.0,\"#0d0887\"],[0.1111111111111111,\"#46039f\"],[0.2222222222222222,\"#7201a8\"],[0.3333333333333333,\"#9c179e\"],[0.4444444444444444,\"#bd3786\"],[0.5555555555555556,\"#d8576b\"],[0.6666666666666666,\"#ed7953\"],[0.7777777777777778,\"#fb9f3a\"],[0.8888888888888888,\"#fdca26\"],[1.0,\"#f0f921\"]]}],\"heatmapgl\":[{\"type\":\"heatmapgl\",\"colorbar\":{\"outlinewidth\":0,\"ticks\":\"\"},\"colorscale\":[[0.0,\"#0d0887\"],[0.1111111111111111,\"#46039f\"],[0.2222222222222222,\"#7201a8\"],[0.3333333333333333,\"#9c179e\"],[0.4444444444444444,\"#bd3786\"],[0.5555555555555556,\"#d8576b\"],[0.6666666666666666,\"#ed7953\"],[0.7777777777777778,\"#fb9f3a\"],[0.8888888888888888,\"#fdca26\"],[1.0,\"#f0f921\"]]}],\"contourcarpet\":[{\"type\":\"contourcarpet\",\"colorbar\":{\"outlinewidth\":0,\"ticks\":\"\"}}],\"contour\":[{\"type\":\"contour\",\"colorbar\":{\"outlinewidth\":0,\"ticks\":\"\"},\"colorscale\":[[0.0,\"#0d0887\"],[0.1111111111111111,\"#46039f\"],[0.2222222222222222,\"#7201a8\"],[0.3333333333333333,\"#9c179e\"],[0.4444444444444444,\"#bd3786\"],[0.5555555555555556,\"#d8576b\"],[0.6666666666666666,\"#ed7953\"],[0.7777777777777778,\"#fb9f3a\"],[0.8888888888888888,\"#fdca26\"],[1.0,\"#f0f921\"]]}],\"surface\":[{\"type\":\"surface\",\"colorbar\":{\"outlinewidth\":0,\"ticks\":\"\"},\"colorscale\":[[0.0,\"#0d0887\"],[0.1111111111111111,\"#46039f\"],[0.2222222222222222,\"#7201a8\"],[0.3333333333333333,\"#9c179e\"],[0.4444444444444444,\"#bd3786\"],[0.5555555555555556,\"#d8576b\"],[0.6666666666666666,\"#ed7953\"],[0.7777777777777778,\"#fb9f3a\"],[0.8888888888888888,\"#fdca26\"],[1.0,\"#f0f921\"]]}],\"mesh3d\":[{\"type\":\"mesh3d\",\"colorbar\":{\"outlinewidth\":0,\"ticks\":\"\"}}],\"scatter\":[{\"fillpattern\":{\"fillmode\":\"overlay\",\"size\":10,\"solidity\":0.2},\"type\":\"scatter\"}],\"parcoords\":[{\"type\":\"parcoords\",\"line\":{\"colorbar\":{\"outlinewidth\":0,\"ticks\":\"\"}}}],\"scatterpolargl\":[{\"type\":\"scatterpolargl\",\"marker\":{\"colorbar\":{\"outlinewidth\":0,\"ticks\":\"\"}}}],\"bar\":[{\"error_x\":{\"color\":\"#2a3f5f\"},\"error_y\":{\"color\":\"#2a3f5f\"},\"marker\":{\"line\":{\"color\":\"#E5ECF6\",\"width\":0.5},\"pattern\":{\"fillmode\":\"overlay\",\"size\":10,\"solidity\":0.2}},\"type\":\"bar\"}],\"scattergeo\":[{\"type\":\"scattergeo\",\"marker\":{\"colorbar\":{\"outlinewidth\":0,\"ticks\":\"\"}}}],\"scatterpolar\":[{\"type\":\"scatterpolar\",\"marker\":{\"colorbar\":{\"outlinewidth\":0,\"ticks\":\"\"}}}],\"histogram\":[{\"marker\":{\"pattern\":{\"fillmode\":\"overlay\",\"size\":10,\"solidity\":0.2}},\"type\":\"histogram\"}],\"scattergl\":[{\"type\":\"scattergl\",\"marker\":{\"colorbar\":{\"outlinewidth\":0,\"ticks\":\"\"}}}],\"scatter3d\":[{\"type\":\"scatter3d\",\"line\":{\"colorbar\":{\"outlinewidth\":0,\"ticks\":\"\"}},\"marker\":{\"colorbar\":{\"outlinewidth\":0,\"ticks\":\"\"}}}],\"scattermapbox\":[{\"type\":\"scattermapbox\",\"marker\":{\"colorbar\":{\"outlinewidth\":0,\"ticks\":\"\"}}}],\"scatterternary\":[{\"type\":\"scatterternary\",\"marker\":{\"colorbar\":{\"outlinewidth\":0,\"ticks\":\"\"}}}],\"scattercarpet\":[{\"type\":\"scattercarpet\",\"marker\":{\"colorbar\":{\"outlinewidth\":0,\"ticks\":\"\"}}}],\"carpet\":[{\"aaxis\":{\"endlinecolor\":\"#2a3f5f\",\"gridcolor\":\"white\",\"linecolor\":\"white\",\"minorgridcolor\":\"white\",\"startlinecolor\":\"#2a3f5f\"},\"baxis\":{\"endlinecolor\":\"#2a3f5f\",\"gridcolor\":\"white\",\"linecolor\":\"white\",\"minorgridcolor\":\"white\",\"startlinecolor\":\"#2a3f5f\"},\"type\":\"carpet\"}],\"table\":[{\"cells\":{\"fill\":{\"color\":\"#EBF0F8\"},\"line\":{\"color\":\"white\"}},\"header\":{\"fill\":{\"color\":\"#C8D4E3\"},\"line\":{\"color\":\"white\"}},\"type\":\"table\"}],\"barpolar\":[{\"marker\":{\"line\":{\"color\":\"#E5ECF6\",\"width\":0.5},\"pattern\":{\"fillmode\":\"overlay\",\"size\":10,\"solidity\":0.2}},\"type\":\"barpolar\"}],\"pie\":[{\"automargin\":true,\"type\":\"pie\"}]},\"layout\":{\"autotypenumbers\":\"strict\",\"colorway\":[\"#636efa\",\"#EF553B\",\"#00cc96\",\"#ab63fa\",\"#FFA15A\",\"#19d3f3\",\"#FF6692\",\"#B6E880\",\"#FF97FF\",\"#FECB52\"],\"font\":{\"color\":\"#2a3f5f\"},\"hovermode\":\"closest\",\"hoverlabel\":{\"align\":\"left\"},\"paper_bgcolor\":\"white\",\"plot_bgcolor\":\"#E5ECF6\",\"polar\":{\"bgcolor\":\"#E5ECF6\",\"angularaxis\":{\"gridcolor\":\"white\",\"linecolor\":\"white\",\"ticks\":\"\"},\"radialaxis\":{\"gridcolor\":\"white\",\"linecolor\":\"white\",\"ticks\":\"\"}},\"ternary\":{\"bgcolor\":\"#E5ECF6\",\"aaxis\":{\"gridcolor\":\"white\",\"linecolor\":\"white\",\"ticks\":\"\"},\"baxis\":{\"gridcolor\":\"white\",\"linecolor\":\"white\",\"ticks\":\"\"},\"caxis\":{\"gridcolor\":\"white\",\"linecolor\":\"white\",\"ticks\":\"\"}},\"coloraxis\":{\"colorbar\":{\"outlinewidth\":0,\"ticks\":\"\"}},\"colorscale\":{\"sequential\":[[0.0,\"#0d0887\"],[0.1111111111111111,\"#46039f\"],[0.2222222222222222,\"#7201a8\"],[0.3333333333333333,\"#9c179e\"],[0.4444444444444444,\"#bd3786\"],[0.5555555555555556,\"#d8576b\"],[0.6666666666666666,\"#ed7953\"],[0.7777777777777778,\"#fb9f3a\"],[0.8888888888888888,\"#fdca26\"],[1.0,\"#f0f921\"]],\"sequentialminus\":[[0.0,\"#0d0887\"],[0.1111111111111111,\"#46039f\"],[0.2222222222222222,\"#7201a8\"],[0.3333333333333333,\"#9c179e\"],[0.4444444444444444,\"#bd3786\"],[0.5555555555555556,\"#d8576b\"],[0.6666666666666666,\"#ed7953\"],[0.7777777777777778,\"#fb9f3a\"],[0.8888888888888888,\"#fdca26\"],[1.0,\"#f0f921\"]],\"diverging\":[[0,\"#8e0152\"],[0.1,\"#c51b7d\"],[0.2,\"#de77ae\"],[0.3,\"#f1b6da\"],[0.4,\"#fde0ef\"],[0.5,\"#f7f7f7\"],[0.6,\"#e6f5d0\"],[0.7,\"#b8e186\"],[0.8,\"#7fbc41\"],[0.9,\"#4d9221\"],[1,\"#276419\"]]},\"xaxis\":{\"gridcolor\":\"white\",\"linecolor\":\"white\",\"ticks\":\"\",\"title\":{\"standoff\":15},\"zerolinecolor\":\"white\",\"automargin\":true,\"zerolinewidth\":2},\"yaxis\":{\"gridcolor\":\"white\",\"linecolor\":\"white\",\"ticks\":\"\",\"title\":{\"standoff\":15},\"zerolinecolor\":\"white\",\"automargin\":true,\"zerolinewidth\":2},\"scene\":{\"xaxis\":{\"backgroundcolor\":\"#E5ECF6\",\"gridcolor\":\"white\",\"linecolor\":\"white\",\"showbackground\":true,\"ticks\":\"\",\"zerolinecolor\":\"white\",\"gridwidth\":2},\"yaxis\":{\"backgroundcolor\":\"#E5ECF6\",\"gridcolor\":\"white\",\"linecolor\":\"white\",\"showbackground\":true,\"ticks\":\"\",\"zerolinecolor\":\"white\",\"gridwidth\":2},\"zaxis\":{\"backgroundcolor\":\"#E5ECF6\",\"gridcolor\":\"white\",\"linecolor\":\"white\",\"showbackground\":true,\"ticks\":\"\",\"zerolinecolor\":\"white\",\"gridwidth\":2}},\"shapedefaults\":{\"line\":{\"color\":\"#2a3f5f\"}},\"annotationdefaults\":{\"arrowcolor\":\"#2a3f5f\",\"arrowhead\":0,\"arrowwidth\":1},\"geo\":{\"bgcolor\":\"white\",\"landcolor\":\"#E5ECF6\",\"subunitcolor\":\"white\",\"showland\":true,\"showlakes\":true,\"lakecolor\":\"white\"},\"title\":{\"x\":0.05},\"mapbox\":{\"style\":\"light\"}}},\"xaxis\":{\"anchor\":\"y\",\"domain\":[0.0,0.94]},\"yaxis\":{\"anchor\":\"x\",\"domain\":[0.84375,1.0],\"title\":{\"text\":\"Vacancy\"},\"range\":[-1,45]},\"xaxis2\":{\"anchor\":\"y2\",\"domain\":[0.0,0.94]},\"yaxis2\":{\"anchor\":\"x2\",\"domain\":[0.5625,0.71875],\"title\":{\"text\":\"Vacancy\"},\"range\":[-1,45]},\"xaxis3\":{\"anchor\":\"y3\",\"domain\":[0.0,0.94]},\"yaxis3\":{\"anchor\":\"x3\",\"domain\":[0.28125,0.4375],\"title\":{\"text\":\"e-credits\"},\"range\":[10,50]},\"xaxis4\":{\"anchor\":\"y4\",\"domain\":[0.0,0.94]},\"yaxis4\":{\"anchor\":\"x4\",\"domain\":[0.0,0.15625],\"title\":{\"text\":\"e-credits\"},\"range\":[10,50]},\"yaxis5\":{\"anchor\":\"x4\",\"overlaying\":\"y4\",\"side\":\"right\",\"title\":{\"text\":\"Vacancy\"},\"range\":[-1,45]},\"annotations\":[{\"font\":{\"size\":16},\"showarrow\":false,\"text\":\"Vacancy and Opening Vacancy against time\",\"x\":0.47,\"xanchor\":\"center\",\"xref\":\"paper\",\"y\":1.0,\"yanchor\":\"bottom\",\"yref\":\"paper\"},{\"font\":{\"size\":16},\"showarrow\":false,\"text\":\"Before and After Window Vacancy against time\",\"x\":0.47,\"xanchor\":\"center\",\"xref\":\"paper\",\"y\":0.71875,\"yanchor\":\"bottom\",\"yref\":\"paper\"},{\"font\":{\"size\":16},\"showarrow\":false,\"text\":\"Median Bid and Min Bid against time\",\"x\":0.47,\"xanchor\":\"center\",\"xref\":\"paper\",\"y\":0.4375,\"yanchor\":\"bottom\",\"yref\":\"paper\"},{\"font\":{\"size\":16},\"showarrow\":false,\"text\":\"Combination Graph\",\"x\":0.47,\"xanchor\":\"center\",\"xref\":\"paper\",\"y\":0.15625,\"yanchor\":\"bottom\",\"yref\":\"paper\"}],\"title\":{\"font\":{\"size\":10},\"text\":\"Data from Critical Thinking in the Real World | Incoming Freshmen Rnd 1 Win 1 | G2 |\"},\"width\":700,\"height\":1600,\"showlegend\":true},                        {\"responsive\": true}                    ).then(function(){\n",
       "                            \n",
       "var gd = document.getElementById('6096bdc3-dd82-492e-9698-9707b8eac312');\n",
       "var x = new MutationObserver(function (mutations, observer) {{\n",
       "        var display = window.getComputedStyle(gd).display;\n",
       "        if (!display || display === 'none') {{\n",
       "            console.log([gd, 'removed!']);\n",
       "            Plotly.purge(gd);\n",
       "            observer.disconnect();\n",
       "        }}\n",
       "}});\n",
       "\n",
       "// Listen for the removal of the full notebook cells\n",
       "var notebookContainer = gd.closest('#notebook-container');\n",
       "if (notebookContainer) {{\n",
       "    x.observe(notebookContainer, {childList: true});\n",
       "}}\n",
       "\n",
       "// Listen for the clearing of the current output cell\n",
       "var outputEl = gd.closest('.output');\n",
       "if (outputEl) {{\n",
       "    x.observe(outputEl, {childList: true});\n",
       "}}\n",
       "\n",
       "                        })                };                });            </script>        </div>"
      ]
     },
     "metadata": {},
     "output_type": "display_data"
    }
   ],
   "source": [
    "fig, _ = generate_graphs(test, None, \"Critical Thinking in the Real World\",\"Incoming Freshmen Rnd 1 Win 1\",'G2',None, None)\n",
    "fig.show()"
   ]
  },
  {
   "cell_type": "code",
   "execution_count": 14,
   "id": "105e058d",
   "metadata": {},
   "outputs": [],
   "source": [
    "def get_charts(course_name, section_no = None, course_code = None, bidding_window = None, \n",
    "               term = None, instructor = None):\n",
    "    import numpy as np\n",
    "    import pandas as pd\n",
    "    \n",
    "    ### Filter dataset\n",
    "    df = filter_dataset(course_code, course_name, bidding_window, section_no, term, instructor)\n",
    "    \n",
    "    ## Check if the dataset size is 0\n",
    "    if (len(df) == 0):\n",
    "        print(\"No Courses Found\")\n",
    "        return None\n",
    "    \n",
    "    ### Process time of the filtered dataset\n",
    "    df['Time'] = [\" \".join([year,term]) for year, term in zip(df['year'], df['term'])]\n",
    "    ### Additional Processing\n",
    "    if (bidding_window == None or type(bidding_window) == type(list())):\n",
    "        df['Time'] = [\" \".join([time, window]) for time, window in zip(df['Time'], df['bidding_window'])]\n",
    "    \n",
    "    if (section_no == None or type(section_no) == type(list())):\n",
    "        df['Time'] = [\" \".join([time, section]) for time, section in zip(df['Time'], df['section'])]\n",
    "    \n",
    "    \n",
    "    ### Generate graphs\n",
    "    fig, chart_title = generate_graphs(df, course_code, course_name, bidding_window, section_no, term, instructor)\n",
    "    \n",
    "    ### Save Plot\n",
    "    fig.write_html(f'Plots/{chart_title}.html')"
   ]
  },
  {
   "cell_type": "code",
   "execution_count": 10,
   "id": "6caa7a1c",
   "metadata": {},
   "outputs": [
    {
     "data": {
      "text/plain": [
       "array(['Round 2A Window 3', 'Round 2A Window 2', 'Round 2A Window 1',\n",
       "       'Round 2 Window 3', 'Round 2 Window 2', 'Round 2 Window 1',\n",
       "       'Round 1B Window 2', 'Round 1B Window 1', 'Round 1A Window 2',\n",
       "       'Round 1A Window 1', 'Round 1 Window 2', 'Round 1 Window 1',\n",
       "       'Incoming Freshmen Rnd 1 Win 4', 'Incoming Freshmen Rnd 1 Win 3',\n",
       "       'Incoming Freshmen Rnd 1 Win 2', 'Incoming Freshmen Rnd 1 Win 1',\n",
       "       'Incoming Exchange Rnd 1C Win 3', 'Incoming Exchange Rnd 1C Win 2',\n",
       "       'Incoming Exchange Rnd 1C Win 1', 'Round 2A Window 4',\n",
       "       'Round 2 Window 6', 'Round 2 Window 5', 'Round 2 Window 4',\n",
       "       'Round 1 Window 4', 'Round 1 Window 3', 'Round 2A Window 6',\n",
       "       'Round 2A Window 5', 'Incoming Exchange Rnd 1C Win 4'],\n",
       "      dtype=object)"
      ]
     },
     "execution_count": 10,
     "metadata": {},
     "output_type": "execute_result"
    }
   ],
   "source": [
    "## Get correct values\n",
    "dataset['bidding_window'].unique()"
   ]
  },
  {
   "cell_type": "code",
   "execution_count": 15,
   "id": "b74fef40",
   "metadata": {},
   "outputs": [],
   "source": [
    "get_charts(course_code = None, \n",
    "               course_name = 'Management Communication',\n",
    "               bidding_window = ['Incoming Freshmen Rnd 1 Win 1','Incoming Freshmen Rnd 1 Win 2'],\n",
    "               section_no = 'G24',\n",
    "               term = None,\n",
    "               instructor = None\n",
    ")"
   ]
  },
  {
   "cell_type": "code",
   "execution_count": null,
   "id": "662f40fa",
   "metadata": {},
   "outputs": [],
   "source": []
  }
 ],
 "metadata": {
  "kernelspec": {
   "display_name": "Python 3 (ipykernel)",
   "language": "python",
   "name": "python3"
  },
  "language_info": {
   "codemirror_mode": {
    "name": "ipython",
    "version": 3
   },
   "file_extension": ".py",
   "mimetype": "text/x-python",
   "name": "python",
   "nbconvert_exporter": "python",
   "pygments_lexer": "ipython3",
   "version": "3.8.3"
  }
 },
 "nbformat": 4,
 "nbformat_minor": 5
}
